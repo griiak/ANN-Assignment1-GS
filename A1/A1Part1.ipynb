{
 "cells": [
  {
   "cell_type": "code",
   "execution_count": 1,
   "metadata": {},
   "outputs": [],
   "source": [
    "import numpy as np\n",
    "import matplotlib.pyplot as plt"
   ]
  },
  {
   "cell_type": "markdown",
   "metadata": {},
   "source": [
    "# General Code"
   ]
  },
  {
   "cell_type": "markdown",
   "metadata": {},
   "source": [
    "### Plotting"
   ]
  },
  {
   "cell_type": "code",
   "execution_count": 2,
   "metadata": {},
   "outputs": [],
   "source": [
    "def plot_decision_boundary(X,W,t):\n",
    "    #plot classes\n",
    "    plt.scatter(X[0,:], X[1,:], c=t[0,:])\n",
    "    \n",
    "    #plot line\n",
    "    x = [-5,5]\n",
    "    y = [line(x[0],W), line(x[1],W)]\n",
    "    plt.plot(x, y)\n",
    "    \n",
    "    plt.show()\n",
    "    \n",
    "def line(x,W):\n",
    "    k = -(W.T[0]/W.T[1])\n",
    "    m = -W.T[2]/W.T[1]\n",
    "    return k*x+m"
   ]
  },
  {
   "cell_type": "markdown",
   "metadata": {},
   "source": [
    "### Generating"
   ]
  },
  {
   "cell_type": "code",
   "execution_count": 26,
   "metadata": {},
   "outputs": [],
   "source": [
    "def gen_binary(n = 100, bias = True):\n",
    "    mA = [1.0, 0.5]\n",
    "    mB = [-1.0, 0.0]\n",
    "    sigmaA = 0.5\n",
    "    sigmaB = 0.5\n",
    "    \n",
    "    classA1 = np.random.normal(mA[0],sigmaA,n) \n",
    "    classA2 = np.random.normal(mA[1],sigmaA,n)\n",
    "    classA = np.vstack((classA1,classA2))\n",
    "    labelA = np.ones((1,n))\n",
    "    \n",
    "    classB1 = np.random.normal(mB[0],sigmaB,n)\n",
    "    classB2 = np.random.normal(mB[1],sigmaB,n)\n",
    "    classB = np.vstack((classB1,classB2))\n",
    "    labelB = -np.ones((1,n))\n",
    "    \n",
    "    data = np.hstack((classA,classB))\n",
    "    labels = np.hstack((labelA,labelB))\n",
    "    \n",
    "    #shuffle and add bias\n",
    "    X = np.zeros([3,2*n])\n",
    "    t = np.zeros([1,2*n])\n",
    "    index = np.random.permutation(2*n)\n",
    "    \n",
    "    for i in index:\n",
    "        X[:2,i] = data[:2, index[i]]\n",
    "        \n",
    "        if bias:\n",
    "            X[2,i] = 1\n",
    "            \n",
    "        t[0,i] = labels[0,index[i]]\n",
    "    \n",
    "    return X, t\n",
    "\n",
    "def gen_W(X):\n",
    "    W = np.random.normal(0, 1, (1, X.shape[0]))\n",
    "    \n",
    "    #bias\n",
    "    if X[2,0] == 0:\n",
    "        W.T[2] = 0\n",
    "        \n",
    "    return W"
   ]
  },
  {
   "cell_type": "markdown",
   "metadata": {},
   "source": [
    "# Delta Rule"
   ]
  },
  {
   "cell_type": "code",
   "execution_count": 4,
   "metadata": {},
   "outputs": [],
   "source": [
    "def delta(x, W, t, eta):\n",
    "    inner = np.dot(W,x) - t\n",
    "    return -eta * np.dot(inner, np.transpose(x))\n",
    "\n",
    "def run_delta(x, W, t, n_epochs):\n",
    "    n = 0.001\n",
    "    for i in range(n_epochs):\n",
    "        d = delta(x,W,t,n)\n",
    "        W = W + d"
   ]
  },
  {
   "cell_type": "markdown",
   "metadata": {},
   "source": [
    "# Main"
   ]
  },
  {
   "cell_type": "code",
   "execution_count": 27,
   "metadata": {},
   "outputs": [
    {
     "data": {
      "image/png": "[encoded data removed]",
      "text/plain": [
       "<Figure size 432x288 with 1 Axes>"
      ]
     },
     "metadata": {
      "needs_background": "light"
     },
     "output_type": "display_data"
    }
   ],
   "source": [
    "data = gen_binary()"
   ]
  },
  {
   "cell_type": "code",
   "execution_count": null,
   "metadata": {},
   "outputs": [],
   "source": []
  }
 ],
 "metadata": {
  "kernelspec": {
   "display_name": "Python 3",
   "language": "python",
   "name": "python3"
  },
  "language_info": {
   "codemirror_mode": {
    "name": "ipython",
    "version": 3
   },
   "file_extension": ".py",
   "mimetype": "text/x-python",
   "name": "python",
   "nbconvert_exporter": "python",
   "pygments_lexer": "ipython3",
   "version": "3.6.5"
  }
 },
 "nbformat": 4,
 "nbformat_minor": 2
}
