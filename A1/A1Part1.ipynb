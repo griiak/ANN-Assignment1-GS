{
 "cells": [
  {
   "cell_type": "code",
   "execution_count": 1,
   "metadata": {},
   "outputs": [],
   "source": [
    "import numpy as np\n",
    "import matplotlib.pyplot as plt"
   ]
  },
  {
   "cell_type": "markdown",
   "metadata": {},
   "source": [
    "# General Code"
   ]
  },
  {
   "cell_type": "markdown",
   "metadata": {},
   "source": [
    "### Plotting"
   ]
  },
  {
   "cell_type": "code",
   "execution_count": 2,
   "metadata": {},
   "outputs": [],
   "source": [
    "def plot_decision_boundary(W):\n",
    "    x = range(-20,20)\n",
    "\n",
    "def line(x,W):\n",
    "    k = -(W.T[0]/W.T[1])\n",
    "    m = -W.T[2]/W.T[1]\n",
    "    return k*x+m"
   ]
  },
  {
   "cell_type": "markdown",
   "metadata": {},
   "source": [
    "### Generating"
   ]
  },
  {
   "cell_type": "code",
   "execution_count": 67,
   "metadata": {},
   "outputs": [],
   "source": [
    "def gen_binary():\n",
    "    n = 100\n",
    "    mA = [1.0, 0.7]\n",
    "    mB = [-1.5, 0.0]\n",
    "    sigmaA = 0.4\n",
    "    sigmaB = 0.35\n",
    "    classA1 = np.random.normal(mA[0],sigmaA,n) \n",
    "    classA2 = np.random.normal(mA[1],sigmaA,n)\n",
    "    classA = np.vstack((classA1,classA2))\n",
    "    classB1 = np.random.normal(mB[0],sigmaB,n)\n",
    "    classB2 = np.random.normal(mB[1],sigmaB,n)\n",
    "    classB = np.vstack((classB1,classB2))\n",
    "    \n",
    "    # Make a nice plot of the data\n",
    "    data = (classA, classB)\n",
    "    colors = (\"red\", \"blue\")\n",
    "    groups = (\"classA\", \"classB\")\n",
    "\n",
    "    \n",
    "    fig = plt.figure()\n",
    "    ax = fig.add_subplot(1, 1, 1)\n",
    "\n",
    "    for data, color, group in zip(data, colors, groups):\n",
    "        x, y = data\n",
    "        ax.scatter(x, y, alpha=0.8, c=color, edgecolors='none', s=30, label=group)\n",
    "\n",
    "    plt.title('Sampled Data Distribution')\n",
    "    plt.legend(loc=2)\n",
    "    plt.show()\n",
    "\n",
    "    # Return both classes shuffled into one dataset, along with the class index of each data point.\n",
    "    index = np.ones(2*n)\n",
    "    index[0:100] = -1\n",
    "    combined_data = np.concatenate((classA,classB),axis=1)\n",
    "    data_with_index = np.vstack((combined_data,index))\n",
    "    \n",
    "    np.random.shuffle(data_with_index.T)\n",
    "    data_with_index.T\n",
    "    shuffled_data = data_with_index[0:2,:]\n",
    "    shuffled_indices = data_with_index[2,:]\n",
    "\n",
    "    return shuffled_data, shuffled_indices"
   ]
  },
  {
   "cell_type": "code",
   "execution_count": 28,
   "metadata": {},
   "outputs": [],
   "source": [
    "def init_weights(dim):\n",
    "    return np.random.normal(0,1,(dim, dim)) "
   ]
  },
  {
   "cell_type": "markdown",
   "metadata": {},
   "source": [
    "# Perceptron"
   ]
  },
  {
   "cell_type": "code",
   "execution_count": null,
   "metadata": {},
   "outputs": [],
   "source": [
    "def perceptron_training(x, W, t, eta):"
   ]
  },
  {
   "cell_type": "markdown",
   "metadata": {},
   "source": [
    "# Delta Rule"
   ]
  },
  {
   "cell_type": "code",
   "execution_count": 4,
   "metadata": {},
   "outputs": [],
   "source": [
    "def delta(x, W, t, eta):\n",
    "    inner = np.dot(W,x) - t\n",
    "    return -eta * np.dot(inner, np.transpose(x))\n",
    "\n",
    "def run_delta(x, W, t, n_epochs):\n",
    "    n = 0.001\n",
    "    for i in range(n_epochs):\n",
    "        d = delta(x,W,t,n)\n",
    "        W = W + d"
   ]
  },
  {
   "cell_type": "markdown",
   "metadata": {},
   "source": [
    "# Main"
   ]
  },
  {
   "cell_type": "code",
   "execution_count": 68,
   "metadata": {},
   "outputs": [
    {
     "data": {
      "image/png": "[encoded data removed]",
      "text/plain": [
       "<Figure size 432x288 with 1 Axes>"
      ]
     },
     "metadata": {
      "needs_background": "light"
     },
     "output_type": "display_data"
    }
   ],
   "source": [
    "x, t = gen_binary()"
   ]
  },
  {
   "cell_type": "code",
   "execution_count": 69,
   "metadata": {},
   "outputs": [],
   "source": [
    "W = init_weights(data.shape[1])"
   ]
  },
  {
   "cell_type": "code",
   "execution_count": null,
   "metadata": {},
   "outputs": [],
   "source": []
  }
 ],
 "metadata": {
  "kernelspec": {
   "display_name": "Python 3",
   "language": "python",
   "name": "python3"
  },
  "language_info": {
   "codemirror_mode": {
    "name": "ipython",
    "version": 3
   },
   "file_extension": ".py",
   "mimetype": "text/x-python",
   "name": "python",
   "nbconvert_exporter": "python",
   "pygments_lexer": "ipython3",
   "version": "3.7.4"
  }
 },
 "nbformat": 4,
 "nbformat_minor": 2
}
