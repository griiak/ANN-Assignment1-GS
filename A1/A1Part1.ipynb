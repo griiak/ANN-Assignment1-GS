{
 "cells": [
  {
   "cell_type": "code",
   "execution_count": 41,
   "metadata": {},
   "outputs": [],
   "source": [
    "import numpy as np\n",
    "import matplotlib.pyplot as plt\n",
    "import math\n",
    "import keras\n",
    "\n",
    "from keras.models import Sequential\n",
    "from keras.layers import Dense, Activation"
   ]
  },
  {
   "cell_type": "markdown",
   "metadata": {},
   "source": [
    "# General Code"
   ]
  },
  {
   "cell_type": "markdown",
   "metadata": {},
   "source": [
    "### Plotting"
   ]
  },
  {
   "cell_type": "code",
   "execution_count": 2,
   "metadata": {},
   "outputs": [],
   "source": [
    "def plot_decision_boundary(X,W,t):\n",
    "    #plot classes\n",
    "    plt.scatter(X[0,:], X[1,:], c=t[0,:])\n",
    "    \n",
    "    #plot line\n",
    "    x = [-5,5]\n",
    "    y = [line(x[0],W), line(x[1],W)]\n",
    "    plt.plot(x, y)\n",
    "    plt.ylim(-3, 3)\n",
    "    plt.xlim(-3,3)\n",
    "    plt.show()\n",
    "    \n",
    "def line(x,W):\n",
    "    k = -(W.T[0]/W.T[1])\n",
    "    m = -W.T[2]/W.T[1]\n",
    "    return k*x+m\n",
    "\n",
    "def plot_bell(x,y,z):\n",
    "    xx, yy = np.meshgrid(x,y)\n",
    "    print(xx.shape)\n",
    "    print(z.shape)\n",
    "    zz = z.reshape(xx.shape)\n",
    "\n",
    "    #plot.axis([-5 5 -5 5 -0.7 0.7])\n",
    "    plt.contourf(xx, yy, zz, cmap=plt.cm.Spectral)\n",
    "    plt.show()"
   ]
  },
  {
   "cell_type": "markdown",
   "metadata": {},
   "source": [
    "### Generating"
   ]
  },
  {
   "cell_type": "code",
   "execution_count": 3,
   "metadata": {},
   "outputs": [],
   "source": [
    "def gen_binary(n = 100, bias = True):\n",
    "    mA = [1.2, 0.7]\n",
    "    mB = [-1.5, 0.0]\n",
    "    sigmaA = 0.4\n",
    "    sigmaB = 0.35\n",
    "    \n",
    "    classA1 = np.random.normal(mA[0],sigmaA,n) \n",
    "    classA2 = np.random.normal(mA[1],sigmaA,n)\n",
    "    classA = np.vstack((classA1,classA2))\n",
    "    labelA = np.ones((1,n))\n",
    "    \n",
    "    classB1 = np.random.normal(mB[0],sigmaB,n)\n",
    "    classB2 = np.random.normal(mB[1],sigmaB,n)\n",
    "    classB = np.vstack((classB1,classB2))\n",
    "    labelB = -np.ones((1,n))\n",
    "    \n",
    "    data = np.hstack((classA,classB))\n",
    "    labels = np.hstack((labelA,labelB))\n",
    "    \n",
    "    #shuffle and add bias\n",
    "    X = np.zeros([3,2*n])\n",
    "    t = np.zeros([1,2*n])\n",
    "    index = np.random.permutation(2*n)\n",
    "    \n",
    "    for i in index:\n",
    "        X[:2,i] = data[:2, index[i]]\n",
    "        \n",
    "        if bias:\n",
    "            X[2,i] = 1\n",
    "            \n",
    "        t[0,i] = labels[0,index[i]]\n",
    "    \n",
    "    return X, t\n",
    "\n",
    "\n",
    "def gen_nonlin_sep(n = 100, bias = True, subsample_method = 0):\n",
    "    \n",
    "    mA = [1.0, 0.3]\n",
    "    mB = [0.0, -0.1]\n",
    "    sigmaA = 0.2\n",
    "    sigmaB = 0.3\n",
    "    \n",
    "    classA1 = np.hstack((np.random.normal(-mA[0],sigmaA,math.floor(n/2)), \\\n",
    "                        np.random.normal(mA[0],sigmaA,math.floor(n/2))))\n",
    "    classA2 = np.random.normal(mA[1],sigmaA,n)\n",
    "    classA = np.vstack((classA1,classA2))\n",
    "    labelA = np.ones((1,n))\n",
    "      \n",
    "    classB1 = np.random.normal(mB[0],sigmaB,n)\n",
    "    classB2 = np.random.normal(mB[1],sigmaB,n)\n",
    "    classB = np.vstack((classB1,classB2))\n",
    "    labelB = -np.ones((1,n))\n",
    "    \n",
    "    data = np.hstack((classA,classB))\n",
    "    labels = np.hstack((labelA,labelB))\n",
    "    \n",
    "    #shuffle and add bias\n",
    "    X = np.zeros([3,2*n])\n",
    "    t = np.zeros([1,2*n])\n",
    "    index = np.random.permutation(2*n)\n",
    "    \n",
    "    for i in index:\n",
    "        X[:2,i] = data[:2, index[i]]\n",
    "        \n",
    "        if bias:\n",
    "            X[2,i] = 1\n",
    "            \n",
    "        t[0,i] = labels[0,index[i]]\n",
    "    \n",
    "    return X, t\n",
    "\n",
    "def gen_W(X):\n",
    "    W = np.random.normal(0, 1, (1, X.shape[0]))\n",
    "    \n",
    "    #bias\n",
    "    if X[2,0] == 0:\n",
    "        W.T[2] = 0\n",
    "        \n",
    "    return W\n",
    "\n",
    "def gen_encoder(n = 100):\n",
    "    X = -np.ones((8, n))\n",
    "    \n",
    "    #randomly make something 1 \n",
    "    idx = np.random.randint(7, size=n)\n",
    "    for i in range(X.shape[1]):\n",
    "        X[idx[i],i] = 1\n",
    "\n",
    "    return X\n",
    "\n",
    "# Matlab code\n",
    "# x=[-5:0.5:5]’;\n",
    "# y=[-5:0.5:5]’;\n",
    "# z=exp(-x.*x*0.1) * exp(-y.*y*0.1)’ - 0.5;\n",
    "# mesh(x, y, z);\n",
    "def gen_bell(step = .5):\n",
    "    x = np.arange(-5, 5, step)\n",
    "    y = np.arange(-5, 5, step)\n",
    "    \n",
    "    #turn into columns since T does nothing?\n",
    "    x = np.reshape(x, (x.shape[0],1))\n",
    "    y = np.reshape(y, (y.shape[0],1))\n",
    "    \n",
    "    xx, yy = np.meshgrid(x, y)\n",
    "    z = np.dot(np.exp(-x * x * 0.1), np.exp(-y * y * 0.1).T) - 0.5\n",
    "    \n",
    "    grid_X =  np.vstack((xx.ravel(), yy.ravel()))\n",
    "\n",
    "    grid_Y = [z.ravel()]\n",
    "    return grid_X, grid_Y, x, y\n",
    "\n",
    "    \n",
    "    "
   ]
  },
  {
   "cell_type": "markdown",
   "metadata": {},
   "source": [
    "# Subsampling"
   ]
  },
  {
   "cell_type": "code",
   "execution_count": 4,
   "metadata": {},
   "outputs": [],
   "source": [
    "def subsample_data(data, labels, method = 1, bias = 1):\n",
    "    '''\n",
    "    Returns a properly subsampled dataset according to\n",
    "    the method specified by the user.\n",
    "    \n",
    "    Subsample methods:\n",
    "    1 = random 25% from each class\n",
    "    2 = random 50% from class A\n",
    "    3 = random 50% from class B\n",
    "    4 = 20% from left A and 80% from right A\n",
    "    '''\n",
    "    data_dim = data.shape[0]\n",
    "    n = int(data.shape[1]/2)\n",
    "    \n",
    "    classA = np.zeros([data_dim, n])\n",
    "    classB = np.zeros([data_dim, n])\n",
    "    countA = 0\n",
    "    countB = 0\n",
    "    \n",
    "    for i in range(0,2*n):\n",
    "        if labels[:,i] == 1:\n",
    "            classA[:,countA] = data[:,i]\n",
    "            countA += 1\n",
    "        else:\n",
    "            classB[:,countB] = data[:,i]\n",
    "            countB += 1\n",
    "            \n",
    "    if method == 1:\n",
    "        classA = classA[:,0:math.floor(0.75*n)]\n",
    "        labelA = np.ones((1,math.floor(0.75*n)))\n",
    "        \n",
    "        classB = classB[:,0:math.floor(0.75*n)]\n",
    "        labelB = -np.ones((1,math.floor(0.75*n)))        \n",
    "        \n",
    "    elif method == 2:\n",
    "        classA = classA[:,0:math.floor(n/2)]\n",
    "        labelA = np.ones((1,math.floor(n/2)))\n",
    "        labelB = -np.ones((1,n))\n",
    "    \n",
    "    elif method == 3:\n",
    "        classB = classB[:,0:math.floor(n/2)]\n",
    "        labelB = -np.ones((1,math.floor(n/2)))\n",
    "        labelA = np.ones((1,n))\n",
    "    \n",
    "    elif method == 4:\n",
    "        classA1 = np.zeros([data_dim, math.floor(n/2)])\n",
    "        classA2 = np.zeros([data_dim, math.floor(n/2)])\n",
    "        countA1 = 0\n",
    "        countA2 = 0\n",
    "        \n",
    "        for i in range(0,n):\n",
    "            if classA[0,i] < 0:\n",
    "                classA1[:,countA1] = classA[:,i]\n",
    "                countA1 += 1\n",
    "            else:\n",
    "                classA2[:,countA2] = classA[:,i]\n",
    "                countA2 += 1\n",
    "        \n",
    "        classA1 = classA1[:,0:math.floor(0.8*math.floor(n/2))]\n",
    "        classA2 = classA2[:,0:math.floor(0.2*math.floor(n/2))]\n",
    "        classA = np.hstack((classA1,classA2))\n",
    "        labelA = np.ones((1,math.floor(n/2)))\n",
    "        labelB = -np.ones((1,n))\n",
    "    \n",
    "    new_data = np.hstack((classA,classB))\n",
    "    new_labels = np.hstack((labelA,labelB))\n",
    "    \n",
    "    #shuffle and add bias\n",
    "    X = np.zeros([3,math.floor(1.5*n)])\n",
    "    t = np.zeros([1,math.floor(1.5*n)])\n",
    "    index = np.random.permutation(math.floor(1.5*n))\n",
    "    \n",
    "    for i in index:\n",
    "        X[:2,i] = new_data[:2, index[i]]\n",
    "        \n",
    "        if bias:\n",
    "            X[2,i] = 1\n",
    "            \n",
    "        t[0,i] = new_labels[0,index[i]]\n",
    "\n",
    "    return X, t        \n",
    "    \n",
    "            "
   ]
  },
  {
   "cell_type": "markdown",
   "metadata": {},
   "source": [
    "# Perceptron"
   ]
  },
  {
   "cell_type": "code",
   "execution_count": 5,
   "metadata": {},
   "outputs": [],
   "source": [
    "def prediction(data, weight):\n",
    "    activation = weight[len(data)-1]\n",
    "    for i in range(len(data)-1):\n",
    "        activation += weight[i]*data[i]\n",
    "    if activation >=0:\n",
    "        return 1.0\n",
    "    else :\n",
    "        return -1.0\n",
    "    \n",
    "def weight_update_perceptron(dataset, labels, lr, n_epoch):\n",
    "    weights = np.zeros(len(dataset[0]))\n",
    "    print('l = ',len(dataset[0]))\n",
    "    for epoch in range(n_epoch):\n",
    "        sum_error = 0.0\n",
    "        for i in range(len(dataset)-1):\n",
    "            data = dataset[:,i]\n",
    "            p = prediction(data, weights)\n",
    "            error = (labels[:,i] - p)/2\n",
    "            sum_error += abs(error)\n",
    "            #weights[len(data)-1] = weights[len(data)-1] + (lr* error)\n",
    "            for j in range(len(data)-1):\n",
    "                weights[j] = weights[j] + (lr*error*data[j])\n",
    "        #print('epoch=%d, lr=%.3f, error=%.3f' % (epoch, lr, sum_error))\n",
    "    return weights\n",
    "\n",
    "#dataset, labels = gen_binary(5)\n",
    "#dataset = np.transpose(dataset)\n",
    "#w = weight_update_perceptron(dataset, labels, 0.1, 10)\n",
    "#print(\"w = \", w)"
   ]
  },
  {
   "cell_type": "markdown",
   "metadata": {},
   "source": [
    "# Delta Rule"
   ]
  },
  {
   "cell_type": "code",
   "execution_count": 6,
   "metadata": {},
   "outputs": [],
   "source": [
    "def delta(W, x, t, eta):\n",
    "    inner = np.dot(W,x) - t\n",
    "    return eta * np.dot(inner, np.transpose(x))\n",
    "\n",
    "def run_delta(W, X, T, eta, n_epochs):\n",
    "    Wnew = W[:]\n",
    "    for e in range(n_epochs):\n",
    "        for i in range(X.shape[1]):\n",
    "            x = X[:,i,None]\n",
    "            t = T[:,i]\n",
    "            Wnew = Wnew - delta(Wnew,x,t,eta)\n",
    "    return Wnew\n",
    "\n",
    "def run_delta_batch(W, X, T, eta, n_epochs):\n",
    "    Wnew = W[:]\n",
    "    for e in range(n_epochs):\n",
    "        Wnew = Wnew - eta*np.dot((np.dot(Wnew,X)-T),X.T)\n",
    "    return Wnew\n"
   ]
  },
  {
   "cell_type": "markdown",
   "metadata": {},
   "source": [
    "# Run Classifier"
   ]
  },
  {
   "cell_type": "code",
   "execution_count": 7,
   "metadata": {},
   "outputs": [],
   "source": [
    "def run_evaluation(W, X, T):\n",
    "    Y = np.dot(W, X)\n",
    "    Y[Y > 0] = 1\n",
    "    Y[Y < 0] = -1\n",
    "    P = (Y==T)\n",
    "    TrueA = np.logical_and((Y==1),(T==1)) \n",
    "    TotalA = (T==1)\n",
    "    TrueB =  np.logical_and((Y==-1),(T==-1))\n",
    "    TotalB = (T==-1)    \n",
    "    print(\"Classification accuracy =\",np.sum(P)/P.shape[1]*100,\"\\b%.\")\n",
    "    print(\"Accuracy of A class predictions =\",np.sum(TrueA)/np.sum(TotalA)*100,\"\\b%\")\n",
    "    print(\"Accuracy of B class predictions =\",np.sum(TrueB)/np.sum(TotalB)*100,\"\\b%\")\n"
   ]
  },
  {
   "cell_type": "markdown",
   "metadata": {},
   "source": [
    "# Experiments on Linearly Separable Data"
   ]
  },
  {
   "cell_type": "code",
   "execution_count": 8,
   "metadata": {
    "scrolled": true
   },
   "outputs": [
    {
     "data": {
      "image/png": "[encoded data removed]",
      "text/plain": [
       "<Figure size 432x288 with 1 Axes>"
      ]
     },
     "metadata": {
      "needs_background": "light"
     },
     "output_type": "display_data"
    },
    {
     "name": "stdout",
     "output_type": "stream",
     "text": [
      "Classification accuracy = 100.0 \b%.\n",
      "Accuracy of A class predictions = 100.0 \b%\n",
      "Accuracy of B class predictions = 100.0 \b%\n"
     ]
    }
   ],
   "source": [
    "X, T = gen_binary(100, False)\n",
    "W = gen_W(X)\n",
    "\n",
    "#W1 = run_delta(W,X,T,0.001,100)\n",
    "#plot_decision_boundary(X,W1,T)\n",
    "\n",
    "W2 = run_delta_batch(W,X,T,0.001,1000)\n",
    "plot_decision_boundary(X,W2,T)\n",
    "run_evaluation(W2, X, T)\n",
    "\n",
    "#W3 = weight_update_perceptron(X, T, 0.001, 10000)\n",
    "#plot_decision_boundary(X,W3,T)\n"
   ]
  },
  {
   "cell_type": "markdown",
   "metadata": {},
   "source": [
    "# Experiments on Non-Linearly Separable Data"
   ]
  },
  {
   "cell_type": "code",
   "execution_count": 9,
   "metadata": {},
   "outputs": [],
   "source": [
    "X, T = gen_nonlin_sep()"
   ]
  },
  {
   "cell_type": "code",
   "execution_count": 10,
   "metadata": {},
   "outputs": [
    {
     "name": "stdout",
     "output_type": "stream",
     "text": [
      "Classification accuracy = 77.33333333333333 \b%.\n",
      "Accuracy of A class predictions = 84.0 \b%\n",
      "Accuracy of B class predictions = 70.66666666666667 \b%\n"
     ]
    },
    {
     "data": {
      "image/png": "[encoded data removed]",
      "text/plain": [
       "<Figure size 432x288 with 1 Axes>"
      ]
     },
     "metadata": {
      "needs_background": "light"
     },
     "output_type": "display_data"
    },
    {
     "name": "stdout",
     "output_type": "stream",
     "text": [
      "Classification accuracy = 77.0 \b%.\n",
      "Accuracy of A class predictions = 81.0 \b%\n",
      "Accuracy of B class predictions = 73.0 \b%\n"
     ]
    },
    {
     "data": {
      "image/png": "[encoded data removed]",
      "text/plain": [
       "<Figure size 432x288 with 1 Axes>"
      ]
     },
     "metadata": {
      "needs_background": "light"
     },
     "output_type": "display_data"
    }
   ],
   "source": [
    "Xsub1, Tsub1 = subsample_data(X,T,1)\n",
    "W = gen_W(Xsub1)\n",
    "\n",
    "W0 = run_delta_batch(W,Xsub1,Tsub1,0.001,100)\n",
    "run_evaluation(W0, Xsub1, Tsub1)\n",
    "plot_decision_boundary(Xsub1,W0,Tsub1)\n",
    "run_evaluation(W0, X, T)\n",
    "plot_decision_boundary(X,W0,T)\n"
   ]
  },
  {
   "cell_type": "markdown",
   "metadata": {},
   "source": [
    "## Two-Layer Perceptron"
   ]
  },
  {
   "cell_type": "code",
   "execution_count": 11,
   "metadata": {},
   "outputs": [],
   "source": [
    "def sigmoid(z):\n",
    "    return (1/(1+np.exp(-z)))\n",
    "\n",
    "def der_sigmoid(z):\n",
    "    l = sigmoid(z)\n",
    "    return (l*(1-l))\n",
    "\n",
    "# 2 layer perceptron\n",
    "# x in features X samples; y is 1 X samples\n",
    "# W and b are initialized accordingly \n",
    "class two_layer_perceptron:\n",
    "    def __init__(self, x, y, output_dim = 1):\n",
    "        self.X=x\n",
    "        self.Y=y\n",
    "        self.Layers=2\n",
    "        self.nodes_hidden_layer = 3\n",
    "        self.output_dim = output_dim\n",
    "        self.dims = [x.shape[0], self.nodes_hidden_layer, output_dim]\n",
    "        self.W = self.init_W()\n",
    "        self.momentum = [np.zeros(self.W[0].shape), np.zeros(self.W[1].shape)]\n",
    "        self.alpha = 0.9\n",
    "        self.lr = 0.1\n",
    "        self.loss = []\n",
    "        self.steps = []\n",
    "        \n",
    "        #configuration \n",
    "        self.use_batch = True\n",
    "        self.use_momentum = True\n",
    "    \n",
    "    def init_W(self):\n",
    "        return [np.random.normal(0, 1, (self.nodes_hidden_layer, self.X.shape[0] + 1)),\n",
    "        np.random.normal(0, 1, (self.output_dim, self.nodes_hidden_layer + 1))]  \n",
    "            \n",
    "    def nloss(self,Yh):\n",
    "        loss = np.sum((self.Y - Yh)**2/2 ) \n",
    "        return loss\n",
    "    \n",
    "    \n",
    "    # Matlab Code\n",
    "    # hin = w * [patterns ; ones(1,ndata)];\n",
    "    # hout = [2 ./ (1+exp(-hin)) - 1 ; ones(1,ndata)];\n",
    "    # oin = v * hout;\n",
    "    # out = 2 ./ (1+exp(-oin)) - 1;\n",
    "    def forward(self, inputs):\n",
    "        bias =  np.ones((1, inputs.shape[1]))\n",
    "        Xb = np.concatenate((inputs,bias)) #add bias   \n",
    "        \n",
    "        hin = np.dot(self.W[0], Xb)\n",
    "        hmid = (2 / (1+np.exp(-hin))) - 1\n",
    "        hout = np.concatenate((hmid, bias)) #add bias\n",
    "        \n",
    "        oin = np.dot(self.W[1], hout)\n",
    "        out = (2 / (1+np.exp(-oin))) - 1\n",
    "        \n",
    "        return hout, out\n",
    "    \n",
    "    # Matlab Code \n",
    "    # delta_o = (out - targets) .* ((1 + out) .* (1 - out)) * 0.5;\n",
    "    # delta_h = (v’ * delta_o) .* ((1 + hout) .* (1 - hout)) * 0.5;\n",
    "    # delta_h = delta_h(1:Nhidden, :);\n",
    "    def backward(self, O, H):           \n",
    "        delta_o = (O - self.Y) * ((1 + O) * (1 - O)) * 0.5\n",
    "        delta_h = np.dot(self.W[1].T, delta_o) * ((1 + H) * (1 - H)) * 0.5\n",
    "        delta_hf = delta_h[:-1,:]\n",
    "        \n",
    "        return delta_hf, delta_o\n",
    "\n",
    "    \n",
    "    # Matlab Code\n",
    "    # dw = (dw .* alpha) - (delta_h * pat’) .* (1-alpha);\n",
    "    # dv = (dv .* alpha) - (delta_o * hout’) .* (1-alpha);\n",
    "    # W = w + dw .* eta;\n",
    "    # V = v + dv .* eta;\n",
    "    def update_weights(self, H, delta_o, delta_h):\n",
    "        #add bias for shape stuff\n",
    "        bias = np.ones((1, self.X.shape[1]))\n",
    "        Xb = np.concatenate((self.X,bias))\n",
    "        \n",
    "        if self.use_momentum:\n",
    "            self.momentum[0] = (self.momentum[0] * self.alpha) - np.dot(delta_h, Xb.T) * (1 - self.alpha)\n",
    "            self.momentum[1] = (self.momentum[1] * self.alpha) - np.dot(delta_o, H.T) * (1 - self.alpha)\n",
    "            self.W[0] += self.momentum[0] * self.lr\n",
    "            self.W[1] += self.momentum[1] * self.lr\n",
    "        else:\n",
    "            self.W[0] += -self.lr * np.dot(delta_h, Xb.T)\n",
    "            self.W[1] = -self.lr * np.dot(delta_o, H.T)\n",
    "    \n",
    "    def predict(self, inputs, do_classification = True):\n",
    "        _, O = self.forward(inputs)\n",
    "        \n",
    "        if do_classification:\n",
    "            O[O > 0] = 1\n",
    "            O[O <= 0] = -1\n",
    "        return O\n",
    "    \n",
    "    def gd(self,X, Y, iter = 3000):\n",
    "        np.random.seed(1)                         \n",
    "        \n",
    "        for i in range(0, iter):\n",
    "            if(self.use_batch):\n",
    "                H,O = self.forward(self.X)\n",
    "                delta_h, delta_o = self.backward(O,H)\n",
    "                self.update_weights(H, delta_o, delta_h)\n",
    "                \n",
    "            else:\n",
    "                print(\"NOT IMPLENETED\")\n",
    "\n",
    "            if i % 500 == 0:\n",
    "                loss = self.nloss(O)\n",
    "                print (\"Cost after iteration \",i,\"  = \", loss,\"\\n\")\n",
    "                self.loss.append(loss)\n",
    "                self.steps.append(i)\n",
    "                if(loss < 1e-3):\n",
    "                    break\n",
    "    \n",
    "    def plot_decision_boundary(self, points = True, h = 0.1):\n",
    "        x_min, x_max = self.X[0, :].min() - 1, self.X[0, :].max() + 1\n",
    "        y_min, y_max = self.X[1, :].min() - 1, self.X[1, :].max() + 1\n",
    "        xx, yy = np.meshgrid(np.arange(x_min, x_max, h),np.arange(y_min, y_max, h))\n",
    "        grid_data = np.transpose(np.c_[xx.ravel(), yy.ravel()])\n",
    "        ones = np.transpose(np.ones((np.shape(xx)[1]*np.shape(xx)[0],1)))\n",
    "        grid_data = np.vstack((grid_data,ones))\n",
    "        Z = self.predict(grid_data)\n",
    "        Z = Z.reshape(xx.shape)\n",
    "        plt.contourf(xx, yy, Z, cmap=plt.cm.Paired, alpha=0.8)\n",
    "        if points:\n",
    "            plt.scatter(self.X[0, :], self.X[1, :], c = self.Y[0])\n",
    "        plt.show()\n",
    "        \n",
    "    def plot_bell_approximation(self, grid_X,x,y):\n",
    "        result = self.predict(grid_X, do_classification=False)\n",
    "        xx, yy = np.meshgrid(x,y)\n",
    "        zz = result.reshape(xx.shape)\n",
    "\n",
    "        #plot.axis([-5 5 -5 5 -0.7 0.7])\n",
    "        plt.contourf(xx, yy, zz, cmap=plt.cm.Spectral)\n",
    "        plt.show()"
   ]
  },
  {
   "cell_type": "code",
   "execution_count": 12,
   "metadata": {},
   "outputs": [
    {
     "name": "stdout",
     "output_type": "stream",
     "text": [
      "x dim =  (3, 600)\n",
      "y dim  =  1 600\n",
      "Cost after iteration  0   =  396.672432883111 \n",
      "\n",
      "Cost after iteration  500   =  0.0004556497801822158 \n",
      "\n"
     ]
    },
    {
     "data": {
      "image/png": "[encoded data removed]",
      "text/plain": [
       "<Figure size 432x288 with 1 Axes>"
      ]
     },
     "metadata": {
      "needs_background": "light"
     },
     "output_type": "display_data"
    },
    {
     "data": {
      "image/png": "[encoded data removed]",
      "text/plain": [
       "<Figure size 432x288 with 1 Axes>"
      ]
     },
     "metadata": {
      "needs_background": "light"
     },
     "output_type": "display_data"
    }
   ],
   "source": [
    "x,y = gen_binary(300)   \n",
    "print(\"x dim = \", x.shape)\n",
    "print(\"y dim  = \", len(y),len(y[0]))\n",
    "nn = two_layer_perceptron(x,y)\n",
    "nn.gd(x, y, iter = 1000)\n",
    "plt.plot(nn.steps,nn.loss)\n",
    "plt.show()\n",
    "nn.plot_decision_boundary()\n"
   ]
  },
  {
   "cell_type": "markdown",
   "metadata": {},
   "source": [
    "## Encoder"
   ]
  },
  {
   "cell_type": "code",
   "execution_count": 13,
   "metadata": {},
   "outputs": [
    {
     "name": "stdout",
     "output_type": "stream",
     "text": [
      "Cost after iteration  0   =  12.734774416527227 \n",
      "\n",
      "Cost after iteration  500   =  0.044962105126727235 \n",
      "\n"
     ]
    },
    {
     "data": {
      "image/png": "[encoded data removed]",
      "text/plain": [
       "<Figure size 432x288 with 1 Axes>"
      ]
     },
     "metadata": {
      "needs_background": "light"
     },
     "output_type": "display_data"
    }
   ],
   "source": [
    "x = gen_encoder(3)\n",
    "y = x.copy()\n",
    "nn = two_layer_perceptron(x,y,8)\n",
    "nn.gd(x, y, iter = 1000)\n",
    "\n",
    "plt.plot(nn.steps,nn.loss)\n",
    "plt.show()"
   ]
  },
  {
   "cell_type": "markdown",
   "metadata": {},
   "source": [
    "## Function Approximation"
   ]
  },
  {
   "cell_type": "code",
   "execution_count": 14,
   "metadata": {},
   "outputs": [
    {
     "name": "stdout",
     "output_type": "stream",
     "text": [
      "Cost after iteration  0   =  161.3980465872306 \n",
      "\n",
      "Cost after iteration  500   =  0.4967638989029961 \n",
      "\n"
     ]
    },
    {
     "data": {
      "image/png": "[encoded data removed]",
      "text/plain": [
       "<Figure size 432x288 with 1 Axes>"
      ]
     },
     "metadata": {
      "needs_background": "light"
     },
     "output_type": "display_data"
    },
    {
     "data": {
      "image/png": "[encoded data removed]",
      "text/plain": [
       "<Figure size 432x288 with 1 Axes>"
      ]
     },
     "metadata": {
      "needs_background": "light"
     },
     "output_type": "display_data"
    },
    {
     "name": "stdout",
     "output_type": "stream",
     "text": [
      "(20, 20)\n",
      "(1, 400)\n"
     ]
    },
    {
     "data": {
      "image/png": "[encoded data removed]",
      "text/plain": [
       "<Figure size 432x288 with 1 Axes>"
      ]
     },
     "metadata": {
      "needs_background": "light"
     },
     "output_type": "display_data"
    }
   ],
   "source": [
    "grid_X, grid_Y, x, y = gen_bell()\n",
    "nn = two_layer_perceptron(grid_X, grid_Y, 1)\n",
    "nn.gd(grid_X, grid_Y, iter = 1000)\n",
    "\n",
    "plt.plot(nn.steps,nn.loss)\n",
    "plt.show()\n",
    "nn.plot_bell_approximation(grid_X,x,y)\n",
    "plot_bell(x,y,np.array(grid_Y))"
   ]
  },
  {
   "cell_type": "markdown",
   "metadata": {},
   "source": [
    "## Storage"
   ]
  },
  {
   "cell_type": "code",
   "execution_count": 15,
   "metadata": {},
   "outputs": [],
   "source": [
    "# def sigmoid(z):\n",
    "#     return (1/(1+np.exp(-z)))\n",
    "\n",
    "# def der_sigmoid(z):\n",
    "#     l = sigmoid(z)\n",
    "#     return (l*(1-l))\n",
    "\n",
    "# # 2 layer perceptron\n",
    "# # x in features X samples; y is 1 X samples\n",
    "# # W and b are initialized accordingly \n",
    "# class two_layer_perceptron:\n",
    "#     def __init__(self, x, y, output_dim = 1):\n",
    "#         self.X=x\n",
    "#         self.Y=y\n",
    "#         self.Yh=np.zeros((1,self.Y.shape[1]))\n",
    "#         self.Layers=2\n",
    "#         self.nodes_hidden_layer = 3\n",
    "#         self.dims = [x.shape[0], self.nodes_hidden_layer, output_dim]\n",
    "#         print(self.dims)\n",
    "#         self.params = {}\n",
    "#         self.ch = {}\n",
    "#         self.grad = {}\n",
    "#         self.loss = []\n",
    "#         self.lr=0.1\n",
    "#         self.momentum = 0.9\n",
    "#         self.samples = self.Y.shape[1]\n",
    "#     def initialize_params(self):\n",
    "#         self.params['W1'] = np.random.randn(self.dims[1], self.dims[0]) / np.sqrt(self.dims[0]) \n",
    "#         self.params['b1'] = np.zeros((self.dims[1], 1))        \n",
    "#         self.params['W2'] = np.random.randn(self.dims[2], self.dims[1]) / np.sqrt(self.dims[1]) \n",
    "#         self.params['b2'] = np.zeros((self.dims[2], 1))                \n",
    "#         return\n",
    "\n",
    "#     def nloss(self,Yh):\n",
    "#         loss = np.sum(abs(self.Y - Yh)/2 ) \n",
    "#         return loss\n",
    "\n",
    "#     def forward(self):\n",
    "#         Z1 = self.params['W1'].dot(self.X) + self.params['b1'] \n",
    "#         A1 = sigmoid(Z1)\n",
    "#         self.ch['Z1'],self.ch['A1']=Z1,A1\n",
    "#         Z2 = self.params['W2'].dot(A1) + self.params['b2']  \n",
    "#         A2 = sigmoid(Z2)\n",
    "#         self.ch['Z2'],self.ch['A2']=Z2,A2\n",
    "#         self.Yh=A2\n",
    "#         loss=self.nloss(A2)\n",
    "#         return self.Yh, loss\n",
    "# #             return self.Yh\n",
    "\n",
    "#     def backward(self):               \n",
    "#         dLoss_Yh = - (np.divide(self.Y, self.Yh ) - np.divide(1 - self.Y, 1 - self.Yh))\n",
    "#         dLoss_Z2 = dLoss_Yh * der_sigmoid(self.ch['Z2'])    \n",
    "#         dLoss_A1 = np.dot(self.params[\"W2\"].T,dLoss_Z2)\n",
    "#         dLoss_W2 = (1./self.ch['A1'].shape[1] * np.dot(dLoss_Z2,self.ch['A1'].T))*(1-self.momentum)\n",
    "#         dLoss_W2 += self.momentum*dLoss_W2\n",
    "#         dLoss_b2 = (1./self.ch['A1'].shape[1] * np.dot(dLoss_Z2, np.ones([dLoss_Z2.shape[1],1])))*(1-self.momentum)\n",
    "#         dLoss_b2 += self.momentum*dLoss_b2\n",
    "\n",
    "#         dLoss_Z1 = dLoss_A1 * der_sigmoid(self.ch['Z1'])        \n",
    "#         dLoss_A0 = np.dot(self.params[\"W1\"].T,dLoss_Z1)\n",
    "#         dLoss_W1 = (1./self.X.shape[1] * np.dot(dLoss_Z1,self.X.T))*(1-self.momentum)\n",
    "#         dLoss_W1 += self.momentum*dLoss_W1\n",
    "#         dLoss_b1 = (1./self.X.shape[1] * np.dot(dLoss_Z1, np.ones([dLoss_Z1.shape[1],1])))*(1-self.momentum)\n",
    "#         dLoss_b1 += self.momentum*dLoss_b1\n",
    "\n",
    "#         self.params[\"W1\"] = self.params[\"W1\"] - self.lr * dLoss_W1\n",
    "#         self.params[\"b1\"] = self.params[\"b1\"] - self.lr * dLoss_b1\n",
    "#         self.params[\"W2\"] = self.params[\"W2\"] - self.lr * dLoss_W2\n",
    "#         self.params[\"b2\"] = self.params[\"b2\"] - self.lr * dLoss_b2\n",
    "\n",
    "#     def gd(self,X, Y, iter = 3000):\n",
    "#         np.random.seed(1)                         \n",
    "\n",
    "#         self.initialize_params()\n",
    "\n",
    "#         for i in range(0, iter):\n",
    "#             Yh,loss =self.forward()\n",
    "#             self.backward()\n",
    "\n",
    "#             if i % 500 == 0:\n",
    "#                 print (\"Cost after iteration \",i,\"  = \", loss,\"\\n\")\n",
    "# #                     self.loss.append(loss)\n",
    "#         return\n"
   ]
  },
  {
   "cell_type": "markdown",
   "metadata": {},
   "source": [
    "# Part II - Time Series Prediction"
   ]
  },
  {
   "cell_type": "code",
   "execution_count": 118,
   "metadata": {},
   "outputs": [],
   "source": [
    "def mackey_glass():\n",
    "    \n",
    "    x = np.zeros(1600)\n",
    "    x[0] = 1.5\n",
    "    for i in range(1,1600):\n",
    "        if i >= 25:\n",
    "            x_25 = x[i-25]\n",
    "        else:\n",
    "            x_25 = 0\n",
    "\n",
    "        x[i] = x[i-1] + (0.2*x_25)/(1+np.power(x_25,10)) - 0.1*x[i-1]\n",
    "\n",
    "    return x\n",
    "\n",
    "def create_datasets(x):\n",
    "   \n",
    "    train_set = np.zeros([1000,5])\n",
    "    train_labels = np.zeros([1000])\n",
    "    \n",
    "    for t in range(300,1300):\n",
    "        train_set[t-300,:] = [x[t-20], x[t-15], x[t-10], x[t-5], x[t]]\n",
    "        train_labels[t-300] = x[t+5] \n",
    "    \n",
    "    '''\n",
    "    Train/validation split is handled automatically by keras so ¯\\_(ツ)_/¯\n",
    "    val_set = np.zeros([200,5])\n",
    "    val_labels = np.zeros([200])\n",
    "    \n",
    "    for t in range(1100,1300):\n",
    "        val_set[t-1100,:] = [x[t-20], x[t-15], x[t-10], x[t-5], x[t]]\n",
    "        val_labels[t-1100] = x[t+5] \n",
    "    '''\n",
    "    test_set = np.zeros([200,5])\n",
    "    test_labels = np.zeros([200])\n",
    "    \n",
    "    for t in range(1300,1500):\n",
    "        test_set[t-1300,:] = [x[t-20], x[t-15], x[t-10], x[t-5], x[t]]\n",
    "        test_labels[t-1300] = x[t+5] \n",
    "        \n",
    "    return train_set, train_labels, test_set, test_labels\n",
    "\n",
    "\n",
    "def init_network(num_nodes):\n",
    "    \n",
    "    if len(num_nodes) < 1:\n",
    "        return None\n",
    "    \n",
    "    model = Sequential()\n",
    "\n",
    "    num_layers = len(num_nodes)\n",
    "    model.add(Dense(num_nodes[0], input_dim=5, kernel_initializer='normal', activation='softmax'))\n",
    "    for i in range(1,num_layers):\n",
    "        model.add(Dense(num_nodes[i], activation='softmax'))\n",
    "    \n",
    "    model.summary()\n",
    "    model.compile('rmsprop', loss='mse')\n",
    "    return model"
   ]
  },
  {
   "cell_type": "code",
   "execution_count": 119,
   "metadata": {},
   "outputs": [],
   "source": [
    "x = mackey_glass()\n",
    "train_set, train_labels, test_set, test_labels = create_datasets(x)\n"
   ]
  },
  {
   "cell_type": "code",
   "execution_count": null,
   "metadata": {},
   "outputs": [],
   "source": []
  },
  {
   "cell_type": "code",
   "execution_count": 120,
   "metadata": {},
   "outputs": [
    {
     "data": {
      "text/plain": [
       "[<matplotlib.lines.Line2D at 0x198986a8d48>]"
      ]
     },
     "execution_count": 120,
     "metadata": {},
     "output_type": "execute_result"
    },
    {
     "data": {
      "image/png": "[encoded data removed]",
      "text/plain": [
       "<Figure size 432x288 with 1 Axes>"
      ]
     },
     "metadata": {
      "needs_background": "light"
     },
     "output_type": "display_data"
    }
   ],
   "source": [
    "plt.plot(x)"
   ]
  },
  {
   "cell_type": "code",
   "execution_count": 121,
   "metadata": {},
   "outputs": [
    {
     "name": "stdout",
     "output_type": "stream",
     "text": [
      "Model: \"sequential_15\"\n",
      "_________________________________________________________________\n",
      "Layer (type)                 Output Shape              Param #   \n",
      "=================================================================\n",
      "dense_33 (Dense)             (None, 10)                60        \n",
      "_________________________________________________________________\n",
      "dense_34 (Dense)             (None, 5)                 55        \n",
      "_________________________________________________________________\n",
      "dense_35 (Dense)             (None, 1)                 6         \n",
      "=================================================================\n",
      "Total params: 121\n",
      "Trainable params: 121\n",
      "Non-trainable params: 0\n",
      "_________________________________________________________________\n",
      "Train on 800 samples, validate on 200 samples\n",
      "Epoch 1/100\n",
      "800/800 [==============================] - 0s 373us/step - loss: 0.0664 - val_loss: 0.0927\n",
      "Epoch 2/100\n",
      "800/800 [==============================] - 0s 20us/step - loss: 0.0664 - val_loss: 0.0927\n",
      "Epoch 3/100\n",
      "800/800 [==============================] - 0s 27us/step - loss: 0.0664 - val_loss: 0.0927\n",
      "Epoch 4/100\n",
      "800/800 [==============================] - 0s 31us/step - loss: 0.0664 - val_loss: 0.0927\n",
      "Epoch 5/100\n",
      "800/800 [==============================] - 0s 39us/step - loss: 0.0664 - val_loss: 0.0927\n",
      "Epoch 6/100\n",
      "800/800 [==============================] - 0s 32us/step - loss: 0.0664 - val_loss: 0.0927\n",
      "Epoch 7/100\n",
      "800/800 [==============================] - 0s 34us/step - loss: 0.0664 - val_loss: 0.0927\n",
      "Epoch 8/100\n",
      "800/800 [==============================] - 0s 31us/step - loss: 0.0664 - val_loss: 0.0927\n",
      "Epoch 9/100\n",
      "800/800 [==============================] - 0s 40us/step - loss: 0.0664 - val_loss: 0.0927\n",
      "Epoch 10/100\n",
      "800/800 [==============================] - 0s 32us/step - loss: 0.0664 - val_loss: 0.0927\n",
      "Epoch 11/100\n",
      "800/800 [==============================] - 0s 42us/step - loss: 0.0664 - val_loss: 0.0927\n",
      "Epoch 12/100\n",
      "800/800 [==============================] - 0s 29us/step - loss: 0.0664 - val_loss: 0.0927\n",
      "Epoch 13/100\n",
      "800/800 [==============================] - 0s 32us/step - loss: 0.0664 - val_loss: 0.0927\n",
      "Epoch 14/100\n",
      "800/800 [==============================] - 0s 37us/step - loss: 0.0664 - val_loss: 0.0927\n",
      "Epoch 15/100\n",
      "800/800 [==============================] - 0s 41us/step - loss: 0.0664 - val_loss: 0.0927\n",
      "Epoch 16/100\n",
      "800/800 [==============================] - 0s 45us/step - loss: 0.0664 - val_loss: 0.0927\n",
      "Epoch 17/100\n",
      "800/800 [==============================] - 0s 30us/step - loss: 0.0664 - val_loss: 0.0927\n",
      "Epoch 18/100\n",
      "800/800 [==============================] - 0s 42us/step - loss: 0.0664 - val_loss: 0.0927\n",
      "Epoch 19/100\n",
      "800/800 [==============================] - 0s 31us/step - loss: 0.0664 - val_loss: 0.0927\n",
      "Epoch 20/100\n",
      "800/800 [==============================] - 0s 32us/step - loss: 0.0664 - val_loss: 0.0927\n",
      "Epoch 21/100\n",
      "800/800 [==============================] - 0s 31us/step - loss: 0.0664 - val_loss: 0.0927\n",
      "Epoch 22/100\n",
      "800/800 [==============================] - 0s 42us/step - loss: 0.0664 - val_loss: 0.0927\n",
      "Epoch 23/100\n",
      "800/800 [==============================] - 0s 36us/step - loss: 0.0664 - val_loss: 0.0927\n",
      "Epoch 24/100\n",
      "800/800 [==============================] - 0s 31us/step - loss: 0.0664 - val_loss: 0.0927\n",
      "Epoch 25/100\n",
      "800/800 [==============================] - 0s 50us/step - loss: 0.0664 - val_loss: 0.0927\n",
      "Epoch 26/100\n",
      "800/800 [==============================] - 0s 49us/step - loss: 0.0664 - val_loss: 0.0927\n",
      "Epoch 27/100\n",
      "800/800 [==============================] - 0s 37us/step - loss: 0.0664 - val_loss: 0.0927\n",
      "Epoch 28/100\n",
      "800/800 [==============================] - 0s 37us/step - loss: 0.0664 - val_loss: 0.0927\n",
      "Epoch 29/100\n",
      "800/800 [==============================] - 0s 31us/step - loss: 0.0664 - val_loss: 0.0927\n",
      "Epoch 30/100\n",
      "800/800 [==============================] - 0s 39us/step - loss: 0.0664 - val_loss: 0.0927\n",
      "Epoch 31/100\n",
      "800/800 [==============================] - 0s 36us/step - loss: 0.0664 - val_loss: 0.0927\n",
      "Epoch 32/100\n",
      "800/800 [==============================] - 0s 42us/step - loss: 0.0664 - val_loss: 0.0927\n",
      "Epoch 33/100\n",
      "800/800 [==============================] - 0s 27us/step - loss: 0.0664 - val_loss: 0.0927\n",
      "Epoch 34/100\n",
      "800/800 [==============================] - 0s 35us/step - loss: 0.0664 - val_loss: 0.0927\n",
      "Epoch 35/100\n",
      "800/800 [==============================] - 0s 25us/step - loss: 0.0664 - val_loss: 0.0927\n",
      "Epoch 36/100\n",
      "800/800 [==============================] - 0s 34us/step - loss: 0.0664 - val_loss: 0.0927\n",
      "Epoch 37/100\n",
      "800/800 [==============================] - 0s 24us/step - loss: 0.0664 - val_loss: 0.0927\n",
      "Epoch 38/100\n",
      "800/800 [==============================] - 0s 36us/step - loss: 0.0664 - val_loss: 0.0927\n",
      "Epoch 39/100\n",
      "800/800 [==============================] - 0s 24us/step - loss: 0.0664 - val_loss: 0.0927\n",
      "Epoch 40/100\n",
      "800/800 [==============================] - 0s 36us/step - loss: 0.0664 - val_loss: 0.0927\n",
      "Epoch 41/100\n",
      "800/800 [==============================] - 0s 35us/step - loss: 0.0664 - val_loss: 0.0927\n",
      "Epoch 42/100\n",
      "800/800 [==============================] - 0s 35us/step - loss: 0.0664 - val_loss: 0.0927\n",
      "Epoch 43/100\n",
      "800/800 [==============================] - 0s 25us/step - loss: 0.0664 - val_loss: 0.0927\n",
      "Epoch 44/100\n",
      "800/800 [==============================] - 0s 27us/step - loss: 0.0664 - val_loss: 0.0927\n",
      "Epoch 45/100\n",
      "800/800 [==============================] - 0s 19us/step - loss: 0.0664 - val_loss: 0.0927\n",
      "Epoch 46/100\n",
      "800/800 [==============================] - 0s 29us/step - loss: 0.0664 - val_loss: 0.0927\n",
      "Epoch 47/100\n",
      "800/800 [==============================] - 0s 37us/step - loss: 0.0664 - val_loss: 0.0927\n",
      "Epoch 48/100\n",
      "800/800 [==============================] - 0s 19us/step - loss: 0.0664 - val_loss: 0.0927\n",
      "Epoch 49/100\n",
      "800/800 [==============================] - 0s 20us/step - loss: 0.0664 - val_loss: 0.0927\n",
      "Epoch 50/100\n",
      "800/800 [==============================] - 0s 21us/step - loss: 0.0664 - val_loss: 0.0927\n",
      "Epoch 51/100\n",
      "800/800 [==============================] - 0s 21us/step - loss: 0.0664 - val_loss: 0.0927\n",
      "Epoch 52/100\n",
      "800/800 [==============================] - 0s 22us/step - loss: 0.0664 - val_loss: 0.0927\n",
      "Epoch 53/100\n",
      "800/800 [==============================] - 0s 21us/step - loss: 0.0664 - val_loss: 0.0927\n",
      "Epoch 54/100\n",
      "800/800 [==============================] - 0s 21us/step - loss: 0.0664 - val_loss: 0.0927\n",
      "Epoch 55/100\n",
      "800/800 [==============================] - 0s 21us/step - loss: 0.0664 - val_loss: 0.0927\n",
      "Epoch 56/100\n",
      "800/800 [==============================] - 0s 21us/step - loss: 0.0664 - val_loss: 0.0927\n",
      "Epoch 57/100\n",
      "800/800 [==============================] - 0s 29us/step - loss: 0.0664 - val_loss: 0.0927\n",
      "Epoch 58/100\n",
      "800/800 [==============================] - 0s 27us/step - loss: 0.0664 - val_loss: 0.0927\n",
      "Epoch 59/100\n",
      "800/800 [==============================] - 0s 33us/step - loss: 0.0664 - val_loss: 0.0927\n",
      "Epoch 60/100\n",
      "800/800 [==============================] - 0s 30us/step - loss: 0.0664 - val_loss: 0.0927\n",
      "Epoch 61/100\n",
      "800/800 [==============================] - 0s 32us/step - loss: 0.0664 - val_loss: 0.0927\n",
      "Epoch 62/100\n",
      "800/800 [==============================] - 0s 30us/step - loss: 0.0664 - val_loss: 0.0927\n",
      "Epoch 63/100\n",
      "800/800 [==============================] - 0s 30us/step - loss: 0.0664 - val_loss: 0.0927\n",
      "Epoch 64/100\n",
      "800/800 [==============================] - 0s 24us/step - loss: 0.0664 - val_loss: 0.0927\n",
      "Epoch 65/100\n",
      "800/800 [==============================] - 0s 26us/step - loss: 0.0664 - val_loss: 0.0927\n",
      "Epoch 66/100\n",
      "800/800 [==============================] - 0s 41us/step - loss: 0.0664 - val_loss: 0.0927\n",
      "Epoch 67/100\n",
      "800/800 [==============================] - 0s 27us/step - loss: 0.0664 - val_loss: 0.0927\n",
      "Epoch 68/100\n",
      "800/800 [==============================] - 0s 26us/step - loss: 0.0664 - val_loss: 0.0927\n",
      "Epoch 69/100\n",
      "800/800 [==============================] - 0s 22us/step - loss: 0.0664 - val_loss: 0.0927\n",
      "Epoch 70/100\n",
      "800/800 [==============================] - 0s 26us/step - loss: 0.0664 - val_loss: 0.0927\n",
      "Epoch 71/100\n",
      "800/800 [==============================] - 0s 27us/step - loss: 0.0664 - val_loss: 0.0927\n",
      "Epoch 72/100\n",
      "800/800 [==============================] - 0s 22us/step - loss: 0.0664 - val_loss: 0.0927\n"
     ]
    },
    {
     "name": "stdout",
     "output_type": "stream",
     "text": [
      "Epoch 73/100\n",
      "800/800 [==============================] - 0s 25us/step - loss: 0.0664 - val_loss: 0.0927\n",
      "Epoch 74/100\n",
      "800/800 [==============================] - 0s 29us/step - loss: 0.0664 - val_loss: 0.0927\n",
      "Epoch 75/100\n",
      "800/800 [==============================] - 0s 21us/step - loss: 0.0664 - val_loss: 0.0927\n",
      "Epoch 76/100\n",
      "800/800 [==============================] - 0s 21us/step - loss: 0.0664 - val_loss: 0.0927\n",
      "Epoch 77/100\n",
      "800/800 [==============================] - 0s 19us/step - loss: 0.0664 - val_loss: 0.0927\n",
      "Epoch 78/100\n",
      "800/800 [==============================] - 0s 20us/step - loss: 0.0664 - val_loss: 0.0927\n",
      "Epoch 79/100\n",
      "800/800 [==============================] - 0s 22us/step - loss: 0.0664 - val_loss: 0.0927\n",
      "Epoch 80/100\n",
      "800/800 [==============================] - 0s 24us/step - loss: 0.0664 - val_loss: 0.0927\n",
      "Epoch 81/100\n",
      "800/800 [==============================] - 0s 21us/step - loss: 0.0664 - val_loss: 0.0927\n",
      "Epoch 82/100\n",
      "800/800 [==============================] - 0s 21us/step - loss: 0.0664 - val_loss: 0.0927\n",
      "Epoch 83/100\n",
      "800/800 [==============================] - 0s 21us/step - loss: 0.0664 - val_loss: 0.0927\n",
      "Epoch 84/100\n",
      "800/800 [==============================] - 0s 22us/step - loss: 0.0664 - val_loss: 0.0927\n",
      "Epoch 85/100\n",
      "800/800 [==============================] - 0s 22us/step - loss: 0.0664 - val_loss: 0.0927\n",
      "Epoch 86/100\n",
      "800/800 [==============================] - 0s 24us/step - loss: 0.0664 - val_loss: 0.0927\n",
      "Epoch 87/100\n",
      "800/800 [==============================] - 0s 22us/step - loss: 0.0664 - val_loss: 0.0927\n",
      "Epoch 88/100\n",
      "800/800 [==============================] - 0s 24us/step - loss: 0.0664 - val_loss: 0.0927\n",
      "Epoch 89/100\n",
      "800/800 [==============================] - 0s 22us/step - loss: 0.0664 - val_loss: 0.0927\n",
      "Epoch 90/100\n",
      "800/800 [==============================] - 0s 22us/step - loss: 0.0664 - val_loss: 0.0927\n",
      "Epoch 91/100\n",
      "800/800 [==============================] - 0s 22us/step - loss: 0.0664 - val_loss: 0.0927\n",
      "Epoch 92/100\n",
      "800/800 [==============================] - 0s 30us/step - loss: 0.0664 - val_loss: 0.0927\n",
      "Epoch 93/100\n",
      "800/800 [==============================] - 0s 23us/step - loss: 0.0664 - val_loss: 0.0927\n",
      "Epoch 94/100\n",
      "800/800 [==============================] - 0s 27us/step - loss: 0.0664 - val_loss: 0.0927\n",
      "Epoch 95/100\n",
      "800/800 [==============================] - 0s 25us/step - loss: 0.0664 - val_loss: 0.0927\n",
      "Epoch 96/100\n",
      "800/800 [==============================] - 0s 22us/step - loss: 0.0664 - val_loss: 0.0927\n",
      "Epoch 97/100\n",
      "800/800 [==============================] - 0s 21us/step - loss: 0.0664 - val_loss: 0.0927\n",
      "Epoch 98/100\n",
      "800/800 [==============================] - 0s 20us/step - loss: 0.0664 - val_loss: 0.0927\n",
      "Epoch 99/100\n",
      "800/800 [==============================] - 0s 22us/step - loss: 0.0664 - val_loss: 0.0927\n",
      "Epoch 100/100\n",
      "800/800 [==============================] - 0s 22us/step - loss: 0.0664 - val_loss: 0.0927\n"
     ]
    },
    {
     "data": {
      "text/plain": [
       "<keras.callbacks.History at 0x198997359c8>"
      ]
     },
     "execution_count": 121,
     "metadata": {},
     "output_type": "execute_result"
    }
   ],
   "source": [
    "\n",
    "\n",
    "\n",
    "model = init_network([10,5,1])\n",
    "\n",
    "model.fit(train_set, train_labels, epochs=100, batch_size=50, validation_split=0.2)"
   ]
  },
  {
   "cell_type": "code",
   "execution_count": null,
   "metadata": {},
   "outputs": [],
   "source": []
  },
  {
   "cell_type": "code",
   "execution_count": null,
   "metadata": {},
   "outputs": [],
   "source": []
  },
  {
   "cell_type": "code",
   "execution_count": null,
   "metadata": {},
   "outputs": [],
   "source": []
  }
 ],
 "metadata": {
  "kernelspec": {
   "display_name": "Python 3",
   "language": "python",
   "name": "python3"
  },
  "language_info": {
   "codemirror_mode": {
    "name": "ipython",
    "version": 3
   },
   "file_extension": ".py",
   "mimetype": "text/x-python",
   "name": "python",
   "nbconvert_exporter": "python",
   "pygments_lexer": "ipython3",
   "version": "3.7.4"
  }
 },
 "nbformat": 4,
 "nbformat_minor": 2
}
