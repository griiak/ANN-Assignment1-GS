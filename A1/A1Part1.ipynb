{
 "cells": [
  {
   "cell_type": "code",
   "execution_count": 28,
   "metadata": {},
   "outputs": [],
   "source": [
    "import numpy as np\n",
    "import matplotlib.pyplot as plt\n",
    "import math"
   ]
  },
  {
   "cell_type": "markdown",
   "metadata": {},
   "source": [
    "# General Code"
   ]
  },
  {
   "cell_type": "markdown",
   "metadata": {},
   "source": [
    "### Plotting"
   ]
  },
  {
   "cell_type": "code",
   "execution_count": 2,
   "metadata": {},
   "outputs": [],
   "source": [
    "def plot_decision_boundary(X,W,t):\n",
    "    #plot classes\n",
    "    plt.scatter(X[0,:], X[1,:], c=t[0,:])\n",
    "    \n",
    "    #plot line\n",
    "    x = [-5,5]\n",
    "    y = [line(x[0],W), line(x[1],W)]\n",
    "    plt.plot(x, y)\n",
    "    plt.ylim(-3, 3)\n",
    "    plt.xlim(-3,3)\n",
    "    plt.show()\n",
    "    \n",
    "def line(x,W):\n",
    "    k = -(W.T[0]/W.T[1])\n",
    "    m = -W.T[2]/W.T[1]\n",
    "    return k*x+m"
   ]
  },
  {
   "cell_type": "markdown",
   "metadata": {},
   "source": [
    "### Generating"
   ]
  },
  {
   "cell_type": "code",
   "execution_count": 35,
   "metadata": {},
   "outputs": [],
   "source": [
    "def gen_binary(n = 100, bias = True):\n",
    "    mA = [1.2, 0.7]\n",
    "    mB = [-1.5, 0.0]\n",
    "    sigmaA = 0.4\n",
    "    sigmaB = 0.35\n",
    "    \n",
    "    classA1 = np.random.normal(mA[0],sigmaA,n) \n",
    "    classA2 = np.random.normal(mA[1],sigmaA,n)\n",
    "    classA = np.vstack((classA1,classA2))\n",
    "    labelA = np.ones((1,n))\n",
    "    \n",
    "    classB1 = np.random.normal(mB[0],sigmaB,n)\n",
    "    classB2 = np.random.normal(mB[1],sigmaB,n)\n",
    "    classB = np.vstack((classB1,classB2))\n",
    "    labelB = -np.ones((1,n))\n",
    "    \n",
    "    data = np.hstack((classA,classB))\n",
    "    labels = np.hstack((labelA,labelB))\n",
    "    \n",
    "    #shuffle and add bias\n",
    "    X = np.zeros([3,2*n])\n",
    "    t = np.zeros([1,2*n])\n",
    "    index = np.random.permutation(2*n)\n",
    "    \n",
    "    for i in index:\n",
    "        X[:2,i] = data[:2, index[i]]\n",
    "        \n",
    "        if bias:\n",
    "            X[2,i] = 1\n",
    "            \n",
    "        t[0,i] = labels[0,index[i]]\n",
    "    \n",
    "    return X, t\n",
    "\n",
    "\n",
    "def gen_nonlin_sep(n = 100, bias = True, subsample_method = 0):\n",
    "    \n",
    "    mA = [1.0, 0.3]\n",
    "    mB = [0.0, -0.1]\n",
    "    sigmaA = 0.2\n",
    "    sigmaB = 0.3\n",
    "    \n",
    "    classA1 = np.hstack((np.random.normal(-mA[0],sigmaA,math.floor(n/2)), \\\n",
    "                        np.random.normal(mA[0],sigmaA,math.floor(n/2))))\n",
    "    classA2 = np.random.normal(mA[1],sigmaA,n)\n",
    "    classA = np.vstack((classA1,classA2))\n",
    "    labelA = np.ones((1,n))\n",
    "      \n",
    "    classB1 = np.random.normal(mB[0],sigmaB,n)\n",
    "    classB2 = np.random.normal(mB[1],sigmaB,n)\n",
    "    classB = np.vstack((classB1,classB2))\n",
    "    labelB = -np.ones((1,n))\n",
    "    \n",
    "    data = np.hstack((classA,classB))\n",
    "    labels = np.hstack((labelA,labelB))\n",
    "    \n",
    "    #shuffle and add bias\n",
    "    X = np.zeros([3,2*n])\n",
    "    t = np.zeros([1,2*n])\n",
    "    index = np.random.permutation(2*n)\n",
    "    \n",
    "    for i in index:\n",
    "        X[:2,i] = data[:2, index[i]]\n",
    "        \n",
    "        if bias:\n",
    "            X[2,i] = 1\n",
    "            \n",
    "        t[0,i] = labels[0,index[i]]\n",
    "    \n",
    "    return X, t\n",
    "\n",
    "\n",
    "\n",
    "\n",
    "def gen_W(X):\n",
    "    W = np.random.normal(0, 1, (1, X.shape[0]))\n",
    "    \n",
    "    #bias\n",
    "    if X[2,0] == 0:\n",
    "        W.T[2] = 0\n",
    "        \n",
    "    return W"
   ]
  },
  {
   "cell_type": "markdown",
   "metadata": {},
   "source": [
    "# Subsampling"
   ]
  },
  {
   "cell_type": "code",
   "execution_count": 147,
   "metadata": {},
   "outputs": [],
   "source": [
    "def subsample_data(data, labels, method = 1, bias = 1):\n",
    "    '''\n",
    "    Returns a properly subsampled dataset according to\n",
    "    the method specified by the user.\n",
    "    \n",
    "    Subsample methods:\n",
    "    1 = random 25% from each class\n",
    "    2 = random 50% from class A\n",
    "    3 = random 50% from class B\n",
    "    4 = 20% from left A and 80% from right A\n",
    "    '''\n",
    "    data_dim = data.shape[0]\n",
    "    n = int(data.shape[1]/2)\n",
    "    \n",
    "    classA = np.zeros([data_dim, n])\n",
    "    classB = np.zeros([data_dim, n])\n",
    "    countA = 0\n",
    "    countB = 0\n",
    "    \n",
    "    for i in range(0,2*n):\n",
    "        if labels[:,i] == 1:\n",
    "            classA[:,countA] = data[:,i]\n",
    "            countA += 1\n",
    "        else:\n",
    "            classB[:,countB] = data[:,i]\n",
    "            countB += 1\n",
    "            \n",
    "    if method == 1:\n",
    "        classA = classA[:,0:math.floor(0.75*n)]\n",
    "        labelA = np.ones((1,math.floor(0.75*n)))\n",
    "        \n",
    "        classB = classB[:,0:math.floor(0.75*n)]\n",
    "        labelB = -np.ones((1,math.floor(0.75*n)))        \n",
    "        \n",
    "    elif method == 2:\n",
    "        classA = classA[:,0:math.floor(n/2)]\n",
    "        labelA = np.ones((1,math.floor(n/2)))\n",
    "        labelB = -np.ones((1,n))\n",
    "    \n",
    "    elif method == 3:\n",
    "        classB = classB[:,0:math.floor(n/2)]\n",
    "        labelB = -np.ones((1,math.floor(n/2)))\n",
    "        labelA = np.ones((1,n))\n",
    "    \n",
    "    elif method == 4:\n",
    "        classA1 = np.zeros([data_dim, math.floor(n/2)])\n",
    "        classA2 = np.zeros([data_dim, math.floor(n/2)])\n",
    "        countA1 = 0\n",
    "        countA2 = 0\n",
    "        \n",
    "        for i in range(0,n):\n",
    "            if classA[0,i] < 0:\n",
    "                classA1[:,countA1] = classA[:,i]\n",
    "                countA1 += 1\n",
    "            else:\n",
    "                classA2[:,countA2] = classA[:,i]\n",
    "                countA2 += 1\n",
    "        \n",
    "        classA1 = classA1[:,0:math.floor(0.8*math.floor(n/2))]\n",
    "        classA2 = classA2[:,0:math.floor(0.2*math.floor(n/2))]\n",
    "        classA = np.hstack((classA1,classA2))\n",
    "        labelA = np.ones((1,math.floor(n/2)))\n",
    "        labelB = -np.ones((1,n))\n",
    "    \n",
    "    new_data = np.hstack((classA,classB))\n",
    "    new_labels = np.hstack((labelA,labelB))\n",
    "    \n",
    "    #shuffle and add bias\n",
    "    X = np.zeros([3,math.floor(1.5*n)])\n",
    "    t = np.zeros([1,math.floor(1.5*n)])\n",
    "    index = np.random.permutation(math.floor(1.5*n))\n",
    "    \n",
    "    for i in index:\n",
    "        X[:2,i] = new_data[:2, index[i]]\n",
    "        \n",
    "        if bias:\n",
    "            X[2,i] = 1\n",
    "            \n",
    "        t[0,i] = new_labels[0,index[i]]\n",
    "\n",
    "    return X, t        \n",
    "    \n",
    "            "
   ]
  },
  {
   "cell_type": "markdown",
   "metadata": {},
   "source": [
    "# Perceptron"
   ]
  },
  {
   "cell_type": "code",
   "execution_count": 141,
   "metadata": {},
   "outputs": [],
   "source": [
    "def prediction(data, weight):\n",
    "    activation = weight[len(data)-1]\n",
    "    for i in range(len(data)-1):\n",
    "        activation += weight[i]*data[i]\n",
    "    if activation >=0:\n",
    "        return 1.0\n",
    "    else :\n",
    "        return -1.0\n",
    "    \n",
    "def weight_update_perceptron(dataset, labels, lr, n_epoch):\n",
    "    weights = np.zeros(len(dataset[0]))\n",
    "    print('l = ',len(dataset[0]))\n",
    "    for epoch in range(n_epoch):\n",
    "        sum_error = 0.0\n",
    "        for i in range(len(dataset)-1):\n",
    "            data = dataset[:,i]\n",
    "            p = prediction(data, weights)\n",
    "            error = (labels[:,i] - p)/2\n",
    "            sum_error += abs(error)\n",
    "            #weights[len(data)-1] = weights[len(data)-1] + (lr* error)\n",
    "            for j in range(len(data)-1):\n",
    "                weights[j] = weights[j] + (lr*error*data[j])\n",
    "        #print('epoch=%d, lr=%.3f, error=%.3f' % (epoch, lr, sum_error))\n",
    "    return weights\n",
    "\n",
    "#dataset, labels = gen_binary(5)\n",
    "#dataset = np.transpose(dataset)\n",
    "#w = weight_update_perceptron(dataset, labels, 0.1, 10)\n",
    "#print(\"w = \", w)"
   ]
  },
  {
   "cell_type": "markdown",
   "metadata": {},
   "source": [
    "# Delta Rule"
   ]
  },
  {
   "cell_type": "code",
   "execution_count": 142,
   "metadata": {},
   "outputs": [],
   "source": [
    "def delta(W, x, t, eta):\n",
    "    inner = np.dot(W,x) - t\n",
    "    return eta * np.dot(inner, np.transpose(x))\n",
    "\n",
    "def run_delta(W, X, T, eta, n_epochs):\n",
    "    Wnew = W[:]\n",
    "    for e in range(n_epochs):\n",
    "        for i in range(X.shape[1]):\n",
    "            x = X[:,i,None]\n",
    "            t = T[:,i]\n",
    "            Wnew = Wnew - delta(Wnew,x,t,eta)\n",
    "    return Wnew\n",
    "\n",
    "def run_delta_batch(W, X, T, eta, n_epochs):\n",
    "    Wnew = W[:]\n",
    "    for e in range(n_epochs):\n",
    "        Wnew = Wnew - eta*np.dot((np.dot(Wnew,X)-T),X.T)\n",
    "    return Wnew\n"
   ]
  },
  {
   "cell_type": "markdown",
   "metadata": {},
   "source": [
    "# Run Classifier"
   ]
  },
  {
   "cell_type": "code",
   "execution_count": 143,
   "metadata": {},
   "outputs": [],
   "source": [
    "def run_evaluation(W, X, T):\n",
    "    Y = np.dot(W, X)\n",
    "    Y[Y > 0] = 1\n",
    "    Y[Y < 0] = -1\n",
    "    P = (Y==T)\n",
    "    print(\"Classification accuracy =\",np.sum(P)/P.shape[1]*100,\"\\b%.\")"
   ]
  },
  {
   "cell_type": "markdown",
   "metadata": {},
   "source": [
    "# Experiments on Linearly Separable Data"
   ]
  },
  {
   "cell_type": "code",
   "execution_count": 144,
   "metadata": {
    "scrolled": true
   },
   "outputs": [
    {
     "data": {
      "image/png": "[encoded data removed]",
      "text/plain": [
       "<Figure size 432x288 with 1 Axes>"
      ]
     },
     "metadata": {
      "needs_background": "light"
     },
     "output_type": "display_data"
    },
    {
     "name": "stdout",
     "output_type": "stream",
     "text": [
      "Classification accuracy = 100.0 \b%.\n"
     ]
    }
   ],
   "source": [
    "X, T = gen_binary(100, False)\n",
    "W = gen_W(X)\n",
    "\n",
    "#W1 = run_delta(W,X,T,0.001,100)\n",
    "#plot_decision_boundary(X,W1,T)\n",
    "\n",
    "W2 = run_delta_batch(W,X,T,0.001,1000)\n",
    "plot_decision_boundary(X,W2,T)\n",
    "run_evaluation(W2, X, T)\n",
    "\n",
    "#W3 = weight_update_perceptron(X, T, 0.001, 10000)\n",
    "#plot_decision_boundary(X,W3,T)\n"
   ]
  },
  {
   "cell_type": "code",
   "execution_count": null,
   "metadata": {},
   "outputs": [],
   "source": []
  },
  {
   "cell_type": "markdown",
   "metadata": {},
   "source": [
    "# Experiments on Non-Linearly Separable Data"
   ]
  },
  {
   "cell_type": "code",
   "execution_count": 145,
   "metadata": {},
   "outputs": [],
   "source": [
    "X, T = gen_nonlin_sep()"
   ]
  },
  {
   "cell_type": "code",
   "execution_count": 153,
   "metadata": {},
   "outputs": [
    {
     "name": "stdout",
     "output_type": "stream",
     "text": [
      "Classification accuracy = 88.66666666666667 \b%.\n"
     ]
    },
    {
     "data": {
      "image/png": "[encoded data removed]",
      "text/plain": [
       "<Figure size 432x288 with 1 Axes>"
      ]
     },
     "metadata": {
      "needs_background": "light"
     },
     "output_type": "display_data"
    },
    {
     "name": "stdout",
     "output_type": "stream",
     "text": [
      "Classification accuracy = 71.5 \b%.\n"
     ]
    },
    {
     "data": {
      "image/png": "[encoded data removed]",
      "text/plain": [
       "<Figure size 432x288 with 1 Axes>"
      ]
     },
     "metadata": {
      "needs_background": "light"
     },
     "output_type": "display_data"
    }
   ],
   "source": [
    "Xsub1, Tsub1 = subsample_data(X,T,4)\n",
    "W = gen_W(Xsub1)\n",
    "\n",
    "W0 = run_delta_batch(W,Xsub1,Tsub1,0.001,100)\n",
    "run_evaluation(W0, Xsub1, Tsub1)\n",
    "plot_decision_boundary(Xsub1,W0,Tsub1)\n",
    "run_evaluation(W0, X, T)\n",
    "plot_decision_boundary(X,W0,T)\n"
   ]
  },
  {
   "cell_type": "code",
   "execution_count": null,
   "metadata": {},
   "outputs": [],
   "source": []
  },
  {
   "cell_type": "code",
   "execution_count": null,
   "metadata": {},
   "outputs": [],
   "source": []
  },
  {
   "cell_type": "code",
   "execution_count": null,
   "metadata": {},
   "outputs": [],
   "source": []
  }
 ],
 "metadata": {
  "kernelspec": {
   "display_name": "Python 3",
   "language": "python",
   "name": "python3"
  },
  "language_info": {
   "codemirror_mode": {
    "name": "ipython",
    "version": 3
   },
   "file_extension": ".py",
   "mimetype": "text/x-python",
   "name": "python",
   "nbconvert_exporter": "python",
   "pygments_lexer": "ipython3",
   "version": "3.7.4"
  }
 },
 "nbformat": 4,
 "nbformat_minor": 2
}
