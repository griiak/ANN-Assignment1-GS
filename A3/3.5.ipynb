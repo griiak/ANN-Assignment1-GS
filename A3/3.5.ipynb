{
 "cells": [
  {
   "cell_type": "code",
   "execution_count": 5,
   "metadata": {},
   "outputs": [],
   "source": [
    "import numpy as np\n",
    "import matplotlib.pyplot as plt"
   ]
  },
  {
   "cell_type": "code",
   "execution_count": 6,
   "metadata": {},
   "outputs": [],
   "source": [
    "def plot(thing):\n",
    "    plt.imshow(thing.reshape(32,32),interpolation=\"nearest\")\n",
    "    plt.show()"
   ]
  },
  {
   "cell_type": "code",
   "execution_count": 7,
   "metadata": {},
   "outputs": [],
   "source": [
    "def sign(x):\n",
    "    if x >= 0:\n",
    "        x = 1\n",
    "    else:\n",
    "        x = -1\n",
    "    return x\n",
    "\n",
    "            \n",
    "class hopfield():\n",
    "    def __init__(self, size, npatterns, trainX):\n",
    "        self.W = np.zeros([npatterns,npatterns])\n",
    "        self.size = size\n",
    "        self.npatterns = npatterns\n",
    "        \n",
    "        x1=([-1, -1, 1, -1, 1, -1, -1, 1])\n",
    "        x2=([-1, -1, -1, -1, -1, 1, -1, -1])\n",
    "        x3=([-1, 1, 1, -1, -1, 1, -1, 1])\n",
    "        \n",
    "        self.X = trainX\n",
    "    \n",
    "    def calc_weights(self):\n",
    "        for x in self.X:\n",
    "            self.W += np.outer(x,x)\n",
    "        for i in range(self.npatterns):\n",
    "            self.W[i,i] = 0\n",
    "#         print(self.W)\n",
    "    \n",
    "    def update_x(self, x, W):\n",
    "#         print(\"len = \", len(x))\n",
    "        for i in range(len(x[0])):\n",
    "#             print(\"before \", np.dot(x,W[i,:]))\n",
    "            x[0,i] = sign(np.dot(x,W[i,:]))\n",
    "#             print(\"after\", sign(np.dot(x,W[i,:])))\n",
    "        return x\n",
    "\n",
    "    def update_batch(self,x):\n",
    "        new = np.dot(x,self.W)\n",
    "        new[new>=0] = 1\n",
    "        new[new<0] = -1\n",
    "        return new\n",
    "    \n",
    "    def update_random(self,x):\n",
    "        new = x.copy()\n",
    "        n_dims = x.shape[0]\n",
    "        for i in range(n_dims):\n",
    "            unit = np.random.randint(0,n_dims)\n",
    "            xsum = 0\n",
    "            for j in range(n_dims):\n",
    "                xsum += np.multiply(self.W[unit][j], new[j])\n",
    "            new[unit] = sign(xsum)\n",
    "            \n",
    "        return new\n",
    "            \n",
    "    def train(self):       \n",
    "        self.calc_weights()            \n",
    "#         self.update_x(x,self.W)\n",
    "    \n",
    "    def recall(self, x, n_epochs):\n",
    "        for epoch in range(n_epochs):\n",
    "            x = self.update_x(x, self.W)\n",
    "#             print(x)\n",
    "        return x\n",
    "\n",
    "    def recall_batch(self,x, max_iter=100):\n",
    "        error = 1\n",
    "        iters = 0\n",
    "        \n",
    "        while error > 0:\n",
    "            new = self.update_batch(x)\n",
    "            error = sum(abs(new-x))\n",
    "            x = new.copy()\n",
    "            iters = iters+1\n",
    "            if(iters > max_iter):\n",
    "                break\n",
    "                \n",
    "        print(\"iters: \" + str(iters))\n",
    "        return x\n",
    "    \n",
    "    def recall_random(self,x, max_iter=15):\n",
    "        error = 1\n",
    "        iters = 0\n",
    "        \n",
    "        while error > 0:\n",
    "#             print(iters)\n",
    "            new = self.update_random(x)\n",
    "            error = sum(abs(new-x))\n",
    "            x = new.copy()\n",
    "            iters+=1\n",
    "            if(iters > max_iter):\n",
    "                break\n",
    "        \n",
    "        print(\"iters: \" + str(iters))\n",
    "        return x\n",
    " \n",
    " "
   ]
  },
  {
   "cell_type": "code",
   "execution_count": 8,
   "metadata": {},
   "outputs": [
    {
     "name": "stdout",
     "output_type": "stream",
     "text": [
      "(11, 1024)\n"
     ]
    }
   ],
   "source": [
    "def add_noise(image, percentage_flip):\n",
    "    result = np.copy(image)\n",
    "    n_flip = int(len(image)*percentage_flip/100)\n",
    "    units = np.random.choice(len(image),n_flip,replace=False)\n",
    "    for i in units:\n",
    "        result[i] = -1*result[i]\n",
    "    return result\n",
    "\n",
    "def recall_accuracy(input_image,recall_image):\n",
    "    correct = 0\n",
    "    for i in range(len(input_image)):\n",
    "        if input_image[i] == recall_image[i]:\n",
    "            correct += 1\n",
    "    return correct*100/len(input_image)\n",
    "\n",
    "pictData = np.loadtxt('pict.dat',delimiter=\",\", dtype=int).reshape(-1,1024)\n",
    "print(pictData.shape)\n",
    "train_X = pictData[0:3].copy()\n",
    "\n",
    "hopfield_net = hopfield(train_X.shape[0],train_X.shape[1],train_X)\n",
    "hopfield_net.train()"
   ]
  },
  {
   "cell_type": "code",
   "execution_count": 9,
   "metadata": {},
   "outputs": [
    {
     "data": {
      "image/png": "[encoded data removed]",
      "text/plain": [
       "<Figure size 432x288 with 1 Axes>"
      ]
     },
     "metadata": {
      "needs_background": "light"
     },
     "output_type": "display_data"
    }
   ],
   "source": [
    "# checking noise for p1\n",
    "c_test = train_X[0]\n",
    "acc_vals = np.zeros(11)\n",
    "steps = np.zeros(11)\n",
    "for i in range(11):\n",
    "    noisy_image = add_noise(c_test,i*10)\n",
    "    test = hopfield_net.update_batch(noisy_image)\n",
    "    acc_vals[i] = recall_accuracy(c_test,test)\n",
    "    steps[i] = i*10\n",
    "plt.plot(steps,acc_vals)\n",
    "plt.xlabel('% of pixels flipped')\n",
    "plt.ylabel('recall accuracy')\n",
    "plt.title('Change in recall accuracy with increased noise for p1')\n",
    "plt.savefig('p1_accuracu.png')"
   ]
  },
  {
   "cell_type": "code",
   "execution_count": 19,
   "metadata": {},
   "outputs": [
    {
     "data": {
      "image/png": "[encoded data removed]",
      "text/plain": [
       "<Figure size 432x288 with 1 Axes>"
      ]
     },
     "metadata": {
      "needs_background": "light"
     },
     "output_type": "display_data"
    }
   ],
   "source": [
    "#train with dim\n",
    "dim = 3\n",
    "train_X = pictData[0:dim].copy()\n",
    "c_test = train_X[0]\n",
    "\n",
    "hopfield_net = hopfield(train_X.shape[0],train_X.shape[1],train_X)\n",
    "hopfield_net.train()\n",
    "\n",
    "acc_vals = []\n",
    "steps = []\n",
    "for i in range(21):\n",
    "    noisy_image = add_noise(c_test,i*5)\n",
    "    test = hopfield_net.update_batch(noisy_image)\n",
    "    acc_vals.append(recall_accuracy(c_test,test))\n",
    "    steps.append(i*5)\n",
    "    \n",
    "plt.plot(steps,acc_vals)\n",
    "plt.xlabel('% of pixels flipped')\n",
    "plt.ylabel('recall accuracy')\n",
    "plt.title('Change in recall accuracy with ' + str(dim) + ' stored vectors')\n",
    "plt.savefig('p1_accuracu.png')"
   ]
  },
  {
   "cell_type": "code",
   "execution_count": 20,
   "metadata": {},
   "outputs": [],
   "source": [
    "def gen_random_data(dim):\n",
    "    train_X = np.random.randn(dim,1024)\n",
    "    train_X[train_X > 0] = 1\n",
    "    train_X[train_X <= 0] = -1\n",
    "    return train_X"
   ]
  },
  {
   "cell_type": "code",
   "execution_count": 24,
   "metadata": {},
   "outputs": [
    {
     "data": {
      "image/png": "[encoded data removed]",
      "text/plain": [
       "<Figure size 432x288 with 1 Axes>"
      ]
     },
     "metadata": {
      "needs_background": "light"
     },
     "output_type": "display_data"
    }
   ],
   "source": [
    "#train with random data\n",
    "dim = 100\n",
    "train_X = gen_random_data(dim)\n",
    "c_test = train_X[0]\n",
    "\n",
    "hopfield_net = hopfield(train_X.shape[0],train_X.shape[1],train_X)\n",
    "hopfield_net.train()\n",
    "\n",
    "acc_vals = []\n",
    "steps = []\n",
    "for i in range(21):\n",
    "    noisy_image = add_noise(c_test,i*5)\n",
    "    test = hopfield_net.update_batch(noisy_image)\n",
    "    acc_vals.append(recall_accuracy(c_test,test))\n",
    "    steps.append(i*5)\n",
    "    \n",
    "plt.plot(steps,acc_vals)\n",
    "plt.xlabel('% of pixels flipped')\n",
    "plt.ylabel('recall accuracy')\n",
    "plt.title('Change in recall accuracy with ' + str(dim) + ' stored random vectors')\n",
    "plt.savefig('p1_accuracu.png')"
   ]
  },
  {
   "cell_type": "code",
   "execution_count": null,
   "metadata": {},
   "outputs": [],
   "source": []
  }
 ],
 "metadata": {
  "kernelspec": {
   "display_name": "Python 3",
   "language": "python",
   "name": "python3"
  },
  "language_info": {
   "codemirror_mode": {
    "name": "ipython",
    "version": 3
   },
   "file_extension": ".py",
   "mimetype": "text/x-python",
   "name": "python",
   "nbconvert_exporter": "python",
   "pygments_lexer": "ipython3",
   "version": "3.7.4"
  }
 },
 "nbformat": 4,
 "nbformat_minor": 2
}
