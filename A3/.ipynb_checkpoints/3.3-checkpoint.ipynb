{
 "cells": [
  {
   "cell_type": "code",
   "execution_count": 71,
   "metadata": {},
   "outputs": [],
   "source": [
    "import numpy as np\n",
    "import matplotlib.pyplot as plt\n",
    "\n",
    "def sign(x):\n",
    "    if x >= 0:\n",
    "        x = 1\n",
    "    else:\n",
    "        x = -1\n",
    "    return x\n",
    "          \n",
    "class hopfield():\n",
    "    def __init__(self, size, npatterns):\n",
    "        self.W = np.zeros([npatterns,npatterns])\n",
    "        self.size = size\n",
    "        self.npatterns = npatterns\n",
    "        \n",
    "        x1=([-1, -1, 1, -1, 1, -1, -1, 1])\n",
    "        x2=([-1, -1, -1, -1, -1, 1, -1, -1])\n",
    "        x3=([-1, 1, 1, -1, -1, 1, -1, 1])\n",
    "        \n",
    "        self.X = np.vstack([x1,x2,x3])\n",
    "        \n",
    "    def calc_weights(self):\n",
    "        for x in self.X:\n",
    "            self.W += np.outer(x,x)\n",
    "        for i in range(self.npatterns):\n",
    "            self.W[i,i] = 0\n",
    "#         print(self.W)\n",
    "\n",
    "    def rand_weights(self,symmetry=False):\n",
    "        W_len = self.W.shape[0]\n",
    "        self.W = np.random.normal(0, 1,(W_len,W_len))\n",
    "        \n",
    "        if symmetry == True:\n",
    "            self.W = 0.5*self.W+self.W.T\n",
    "                \n",
    "    \n",
    "    def update_x(self, x, W):\n",
    "#         print(\"len = \", len(x))\n",
    "        for i in range(len(x[0])):\n",
    "#             print(\"before \", np.dot(x,W[i,:]))\n",
    "            x[0,i] = sign(np.dot(x,W[i,:]))\n",
    "#             print(\"after\", sign(np.dot(x,W[i,:])))\n",
    "        return x\n",
    "\n",
    "    def update_batch(self,x):\n",
    "        new = np.dot(x,self.W)\n",
    "        new[new>=0] = 1\n",
    "        new[new<0] = -1\n",
    "        return new\n",
    "    \n",
    "    def update_random(self,x):\n",
    "        new = x.copy()\n",
    "        n_dims = x.shape[0]\n",
    "        for i in range(n_dims):\n",
    "            unit = np.random.randint(0,n_dims)\n",
    "            xsum = 0\n",
    "            for j in range(n_dims):\n",
    "                xsum += np.multiply(self.W[unit][j], new[j])\n",
    "            new[unit] = sign(xsum)\n",
    "            \n",
    "        return new\n",
    "            \n",
    "    def train(self):       \n",
    "        self.calc_weights()            \n",
    "#         self.update_x(x,self.W)\n",
    "    \n",
    "    def recall(self, x, n_epochs):\n",
    "        print(\"initial energy:\",self.energy(pattern=x[0]))\n",
    "        for epoch in range(n_epochs):\n",
    "            x = self.update_x(x, self.W)\n",
    "            print(\"iter:\",epoch,\"\\b, energy:\",self.energy(pattern=x[0]))\n",
    "        return x\n",
    "\n",
    "    def recall_batch(self,x):\n",
    "        error = 1\n",
    "        iters = 0\n",
    "        \n",
    "        while error > 0:\n",
    "            new = self.update_batch(x)\n",
    "            error = sum(abs(new-x))\n",
    "            x = new.copy()\n",
    "        \n",
    "        print(\"iters: \" + str(iters))\n",
    "        return x\n",
    "    \n",
    "    def recall_random(self,x, max_iter=15):\n",
    "        error = 1\n",
    "        iters = 0\n",
    "        \n",
    "        while error > 0:\n",
    "#             print(iters)\n",
    "            new = self.update_random(x)\n",
    "            error = sum(abs(new-x))\n",
    "            x = new.copy()\n",
    "            iters+=1\n",
    "            if(iters > max_iter):\n",
    "                break\n",
    "        \n",
    "        print(\"iters: \" + str(iters))\n",
    "        return x\n",
    "    \n",
    "    def energy(self,att=None, pattern=None):\n",
    "        result = 0\n",
    "        \n",
    "        if att is not None:\n",
    "            state = self.X[att,:]\n",
    "        else:\n",
    "            state = pattern\n",
    "        \n",
    "        for i in range(0,self.W.shape[0]):\n",
    "            for j in range(0,self.W.shape[1]):\n",
    "                result += -self.W[i,j]*state[i]*state[j];\n",
    "            \n",
    "        return result"
   ]
  },
  {
   "cell_type": "code",
   "execution_count": 56,
   "metadata": {},
   "outputs": [
    {
     "name": "stdout",
     "output_type": "stream",
     "text": [
      "[[ 0.  1. -1.  3.  1. -1.  3. -1.]\n",
      " [ 1.  0.  1.  1. -1.  1.  1.  1.]\n",
      " [-1.  1.  0. -1.  1. -1. -1.  3.]\n",
      " [ 3.  1. -1.  0.  1. -1.  3. -1.]\n",
      " [ 1. -1.  1.  1.  0. -3.  1.  1.]\n",
      " [-1.  1. -1. -1. -3.  0. -1. -1.]\n",
      " [ 3.  1. -1.  3.  1. -1.  0. -1.]\n",
      " [-1.  1.  3. -1.  1. -1. -1.  0.]]\n",
      "[[-1 -1  1 -1  1 -1 -1  1]\n",
      " [-1 -1 -1 -1 -1  1 -1 -1]\n",
      " [-1  1  1 -1 -1  1 -1  1]]\n",
      "-44.0\n",
      "-44.0\n",
      "-48.0\n",
      "-16.0\n",
      "-12.0\n",
      "0.0\n"
     ]
    }
   ],
   "source": [
    "xd1 =  [1, -1, 1, -1, 1, -1, -1, 1]\n",
    "xd2 = [1, 1, -1, -1, -1, 1, -1, -1]\n",
    "xd3 = [1, 1, 1, -1, 1, 1, -1, 1]\n",
    "\n",
    "net = hopfield(3,8)\n",
    "net.train()\n",
    "print(net.W)\n",
    "print(net.X)\n",
    "print(net.energy(att=0))\n",
    "print(net.energy(att=1))\n",
    "print(net.energy(att=2))\n",
    "print(net.energy(pattern=xd1))\n",
    "print(net.energy(pattern=xd2))\n",
    "print(net.energy(pattern=xd3))"
   ]
  },
  {
   "cell_type": "code",
   "execution_count": 57,
   "metadata": {},
   "outputs": [
    {
     "name": "stdout",
     "output_type": "stream",
     "text": [
      "initial energy: -16.0\n",
      "iter: 0 \b, energy: -44.0\n",
      "iter: 1 \b, energy: -44.0\n",
      "iter: 2 \b, energy: -44.0\n",
      "iter: 3 \b, energy: -44.0\n",
      "iter: 4 \b, energy: -44.0\n",
      "iter: 5 \b, energy: -44.0\n",
      "iter: 6 \b, energy: -44.0\n",
      "iter: 7 \b, energy: -44.0\n",
      "iter: 8 \b, energy: -44.0\n",
      "iter: 9 \b, energy: -44.0\n"
     ]
    }
   ],
   "source": [
    "net.recall(np.array([xd1]),10)"
   ]
  },
  {
   "cell_type": "code",
   "execution_count": 58,
   "metadata": {},
   "outputs": [
    {
     "name": "stdout",
     "output_type": "stream",
     "text": [
      "initial energy: -12.0\n",
      "iter: 0 \b, energy: -44.0\n",
      "iter: 1 \b, energy: -44.0\n",
      "iter: 2 \b, energy: -44.0\n",
      "iter: 3 \b, energy: -44.0\n",
      "iter: 4 \b, energy: -44.0\n",
      "iter: 5 \b, energy: -44.0\n",
      "iter: 6 \b, energy: -44.0\n",
      "iter: 7 \b, energy: -44.0\n",
      "iter: 8 \b, energy: -44.0\n",
      "iter: 9 \b, energy: -44.0\n"
     ]
    }
   ],
   "source": [
    "net.recall(np.array([xd2]),10)"
   ]
  },
  {
   "cell_type": "code",
   "execution_count": 59,
   "metadata": {},
   "outputs": [
    {
     "name": "stdout",
     "output_type": "stream",
     "text": [
      "initial energy: 0.0\n",
      "iter: 0 \b, energy: -44.0\n",
      "iter: 1 \b, energy: -48.0\n",
      "iter: 2 \b, energy: -48.0\n",
      "iter: 3 \b, energy: -48.0\n",
      "iter: 4 \b, energy: -48.0\n",
      "iter: 5 \b, energy: -48.0\n",
      "iter: 6 \b, energy: -48.0\n",
      "iter: 7 \b, energy: -48.0\n",
      "iter: 8 \b, energy: -48.0\n",
      "iter: 9 \b, energy: -48.0\n"
     ]
    }
   ],
   "source": [
    "net.recall(np.array([xd3]),10)"
   ]
  },
  {
   "cell_type": "code",
   "execution_count": 65,
   "metadata": {},
   "outputs": [
    {
     "name": "stdout",
     "output_type": "stream",
     "text": [
      "[[ 0.16793474  0.71241886 -1.50848121 -0.39265359  1.41761977  2.85953026\n",
      "   0.8738773  -1.17612108]\n",
      " [ 1.16310346 -0.62950148 -0.1003238   0.37692507 -1.19472791 -0.64718519\n",
      "  -0.14388208 -1.76001786]\n",
      " [-0.44089551 -1.55568622  0.11692913  0.51580747 -0.93984889  0.29815813\n",
      "   1.21224757  0.84484063]\n",
      " [-0.25088097  0.10993111  0.49590598  0.80046342  1.2510902   0.77627244\n",
      "   0.90520394  1.57654132]\n",
      " [ 0.23579036 -2.01512117  0.70974273  0.50972078  0.2052869   0.21513378\n",
      "   2.4734203  -0.53849457]\n",
      " [-0.07309452 -0.14660325  0.73444051 -0.19513201  0.151566    0.60197788\n",
      "  -1.20163075  0.4318825 ]\n",
      " [ 0.67552137 -1.25269453  0.5239212   0.13056803 -1.35408289  1.3591624\n",
      "  -0.57826345 -0.14118941]\n",
      " [ 0.01155603 -0.24094721 -0.94250231  0.86149572  1.67558257  1.30832226\n",
      "  -1.17721386 -1.47954299]]\n",
      "initial energy: 7.751786862701985\n",
      "iter: 0 \b, energy: 9.984125347893034\n",
      "iter: 1 \b, energy: 9.66480230982149\n",
      "iter: 2 \b, energy: 1.1114728022472191\n",
      "iter: 3 \b, energy: 9.66480230982149\n",
      "iter: 4 \b, energy: 1.1114728022472191\n",
      "iter: 5 \b, energy: 9.66480230982149\n",
      "iter: 6 \b, energy: 1.1114728022472191\n",
      "iter: 7 \b, energy: 9.66480230982149\n",
      "iter: 8 \b, energy: 1.1114728022472191\n",
      "iter: 9 \b, energy: 9.66480230982149\n"
     ]
    },
    {
     "data": {
      "text/plain": [
       "array([[ 1,  1,  1,  1,  1, -1, -1,  1]])"
      ]
     },
     "execution_count": 65,
     "metadata": {},
     "output_type": "execute_result"
    }
   ],
   "source": [
    "rand_net = hopfield(3,8)\n",
    "rand_net.rand_weights()\n",
    "print(rand_net.W)\n",
    "rand_net.recall(np.array([xd3]),10)"
   ]
  },
  {
   "cell_type": "code",
   "execution_count": 73,
   "metadata": {},
   "outputs": [
    {
     "name": "stdout",
     "output_type": "stream",
     "text": [
      "[[ 1.075677   -1.49508657  1.0915871   1.36646807 -0.91108248  0.0788349\n",
      "  -1.51266223 -0.22553933]\n",
      " [-0.21347707 -0.32845377 -0.28257411 -2.0959039   0.56919017 -1.23887821\n",
      "   0.22394778 -1.5356786 ]\n",
      " [ 2.12521401 -0.41355218 -0.35518011  1.77955793 -1.2339059   0.11015864\n",
      "   0.65503461  0.06161114]\n",
      " [ 1.90764279 -1.23572441  1.44177078 -0.32793804  1.109188    0.36526418\n",
      "  -0.91154979  1.29850468]\n",
      " [ 1.17953162  1.29335701  0.06134638  1.54195313  0.38043023 -0.65666337\n",
      "   0.34082231 -0.59251137]\n",
      " [-0.03269894  0.1009175  -0.28770756 -0.19545084 -0.72755341  0.10659662\n",
      "   1.06791266 -0.18719705]\n",
      " [-2.03694504  0.67292458  0.58009289 -1.10404     0.90233981  0.48948984\n",
      "   0.87815234 -2.88895602]\n",
      " [-1.69014827 -1.7892358   0.33497074  1.28397316  0.40784177  1.03692973\n",
      "  -3.10916455 -3.71526486]]\n",
      "initial energy: 13.31565006746272\n",
      "iter: 0 \b, energy: -7.004313672046803\n",
      "iter: 1 \b, energy: -28.14810476603839\n",
      "iter: 2 \b, energy: -28.14810476603839\n",
      "iter: 3 \b, energy: -28.14810476603839\n",
      "iter: 4 \b, energy: -28.14810476603839\n",
      "iter: 5 \b, energy: -28.14810476603839\n",
      "iter: 6 \b, energy: -28.14810476603839\n",
      "iter: 7 \b, energy: -28.14810476603839\n",
      "iter: 8 \b, energy: -28.14810476603839\n",
      "iter: 9 \b, energy: -28.14810476603839\n"
     ]
    },
    {
     "data": {
      "text/plain": [
       "array([[ 1, -1,  1,  1,  1, -1, -1,  1]])"
      ]
     },
     "execution_count": 73,
     "metadata": {},
     "output_type": "execute_result"
    }
   ],
   "source": [
    "sym_rand_net = hopfield(3,8)\n",
    "sym_rand_net.rand_weights(symmetry=True)\n",
    "print(sym_rand_net.W)\n",
    "sym_rand_net.recall(np.array([xd3]),10)"
   ]
  },
  {
   "cell_type": "code",
   "execution_count": null,
   "metadata": {},
   "outputs": [],
   "source": []
  }
 ],
 "metadata": {
  "kernelspec": {
   "display_name": "Python 3",
   "language": "python",
   "name": "python3"
  },
  "language_info": {
   "codemirror_mode": {
    "name": "ipython",
    "version": 3
   },
   "file_extension": ".py",
   "mimetype": "text/x-python",
   "name": "python",
   "nbconvert_exporter": "python",
   "pygments_lexer": "ipython3",
   "version": "3.7.4"
  }
 },
 "nbformat": 4,
 "nbformat_minor": 2
}
