{
 "cells": [
  {
   "cell_type": "code",
   "execution_count": 1,
   "metadata": {},
   "outputs": [],
   "source": [
    "import numpy as np\n",
    "\n",
    "def sign(x):\n",
    "    if x >= 0:\n",
    "        x = 1\n",
    "    else:\n",
    "        x = -1\n",
    "    return x\n",
    "\n",
    "            \n",
    "class hopfield():\n",
    "    def __init__(self, size, npatterns):\n",
    "        self.W = np.zeros([npatterns,npatterns])\n",
    "        self.size = size\n",
    "        self.npatterns = npatterns\n",
    "        \n",
    "        x1=([-1, -1, 1, -1, 1, -1, -1, 1])\n",
    "        x2=([-1, -1, -1, -1, -1, 1, -1, -1])\n",
    "        x3=([-1, 1, 1, -1, -1, 1, -1, 1])\n",
    "        \n",
    "        self.X = np.vstack([x1,x2,x3])\n",
    "    \n",
    "    def calc_weights(self):\n",
    "        for x in self.X:\n",
    "            self.W += np.outer(x,x)\n",
    "        for i in range(self.npatterns):\n",
    "            self.W[i,i] = 0\n",
    "#         print(self.W)\n",
    "   \n",
    "    \n",
    "    def update_x(self, x, W):\n",
    "#         print(\"len = \", len(x))\n",
    "        for i in range(len(x[0])):\n",
    "#             print(\"before \", np.dot(x,W[i,:]))\n",
    "            x[0,i] = sign(np.dot(x,W[i,:]))\n",
    "#             print(\"after\", sign(np.dot(x,W[i,:])))\n",
    "        return x\n",
    "                       \n",
    "\n",
    "    def train(self):       \n",
    "        self.calc_weights()            \n",
    "#         self.update_x(x,self.W)\n",
    "    \n",
    "    def recall(self, x, n_epochs):\n",
    "        for epoch in range(n_epochs):\n",
    "            x = self.update_x(x, self.W)\n",
    "#             print(x)\n",
    "        return x\n",
    " "
   ]
  },
  {
   "cell_type": "code",
   "execution_count": 2,
   "metadata": {},
   "outputs": [
    {
     "name": "stdout",
     "output_type": "stream",
     "text": [
      "8\n",
      "[[-1  1  1 -1 -1  1 -1  1]]\n"
     ]
    }
   ],
   "source": [
    "hopfield_net = hopfield(3,8)\n",
    "x = np.array([[-1, 1, 1, -1, -1, 1, -1, 1]])\n",
    "print(len(x[0]))\n",
    "hopfield_net.train()\n",
    "x_new = hopfield_net.recall(x,10)\n",
    "print(x_new)"
   ]
  },
  {
   "cell_type": "code",
   "execution_count": null,
   "metadata": {},
   "outputs": [],
   "source": [
    "hopfield_net = hopfield(train_X.shape[0],train_X.shape[1],train_X)\n",
    "hopfield_net.train()"
   ]
  }
 ],
 "metadata": {
  "kernelspec": {
   "display_name": "Python 3",
   "language": "python",
   "name": "python3"
  },
  "language_info": {
   "codemirror_mode": {
    "name": "ipython",
    "version": 3
   },
   "file_extension": ".py",
   "mimetype": "text/x-python",
   "name": "python",
   "nbconvert_exporter": "python",
   "pygments_lexer": "ipython3",
   "version": "3.7.4"
  }
 },
 "nbformat": 4,
 "nbformat_minor": 2
}
